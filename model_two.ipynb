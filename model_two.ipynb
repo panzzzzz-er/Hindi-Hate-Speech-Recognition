{
 "cells": [
  {
   "cell_type": "code",
   "execution_count": 1,
   "metadata": {},
   "outputs": [
    {
     "name": "stderr",
     "output_type": "stream",
     "text": [
      "/usr/lib/python3/dist-packages/scipy/__init__.py:146: UserWarning: A NumPy version >=1.17.3 and <1.25.0 is required for this version of SciPy (detected version 1.26.3\n",
      "  warnings.warn(f\"A NumPy version >={np_minversion} and <{np_maxversion}\"\n",
      "2024-01-16 20:04:27.148146: I external/local_tsl/tsl/cuda/cudart_stub.cc:31] Could not find cuda drivers on your machine, GPU will not be used.\n",
      "2024-01-16 20:04:27.548778: E external/local_xla/xla/stream_executor/cuda/cuda_dnn.cc:9261] Unable to register cuDNN factory: Attempting to register factory for plugin cuDNN when one has already been registered\n",
      "2024-01-16 20:04:27.548844: E external/local_xla/xla/stream_executor/cuda/cuda_fft.cc:607] Unable to register cuFFT factory: Attempting to register factory for plugin cuFFT when one has already been registered\n",
      "2024-01-16 20:04:27.563581: E external/local_xla/xla/stream_executor/cuda/cuda_blas.cc:1515] Unable to register cuBLAS factory: Attempting to register factory for plugin cuBLAS when one has already been registered\n",
      "2024-01-16 20:04:27.601333: I external/local_tsl/tsl/cuda/cudart_stub.cc:31] Could not find cuda drivers on your machine, GPU will not be used.\n",
      "2024-01-16 20:04:27.604301: I tensorflow/core/platform/cpu_feature_guard.cc:182] This TensorFlow binary is optimized to use available CPU instructions in performance-critical operations.\n",
      "To enable the following instructions: AVX2, in other operations, rebuild TensorFlow with the appropriate compiler flags.\n",
      "2024-01-16 20:04:34.950342: W tensorflow/compiler/tf2tensorrt/utils/py_utils.cc:38] TF-TRT Warning: Could not find TensorRT\n"
     ]
    }
   ],
   "source": [
    "import os\n",
    "import numpy as np\n",
    "import pandas as pd\n",
    "import librosa\n",
    "from tqdm import tqdm\n",
    "from sklearn.model_selection import StratifiedKFold\n",
    "from sklearn.metrics import accuracy_score, confusion_matrix\n",
    "from sklearn.model_selection import train_test_split\n",
    "from tensorflow.keras.models import Sequential\n",
    "from tensorflow.keras.layers import Conv2D, MaxPooling2D, Flatten, Dense, BatchNormalization, Dropout\n",
    "from tensorflow.keras.optimizers import Adam\n",
    "from tensorflow.keras.preprocessing.image import ImageDataGenerator\n",
    "from tensorflow.keras.callbacks import EarlyStopping"
   ]
  },
  {
   "cell_type": "code",
   "execution_count": 2,
   "metadata": {},
   "outputs": [],
   "source": [
    "# Load data from a single file\n",
    "def load_data(data_path):\n",
    "    df = pd.read_csv(data_path)\n",
    "    data = df['filename'].tolist()\n",
    "    labels = df['label'].tolist()\n",
    "    return data, labels"
   ]
  },
  {
   "cell_type": "code",
   "execution_count": 3,
   "metadata": {},
   "outputs": [],
   "source": [
    "# Preprocess audio data\n",
    "def preprocess_audio(file_path, target_duration=10):\n",
    "    audio, _ = librosa.load(file_path, sr=None)\n",
    "\n",
    "    target_length = int(target_duration * _)\n",
    "    if len(audio) < target_length:\n",
    "        audio = np.pad(audio, (0, target_length - len(audio)))\n",
    "    else:\n",
    "        audio = audio[:target_length]\n",
    "\n",
    "    mfccs = librosa.feature.mfcc(y=audio, sr=_, n_mfcc=13)\n",
    "    return mfccs"
   ]
  },
  {
   "cell_type": "code",
   "execution_count": 4,
   "metadata": {},
   "outputs": [],
   "source": [
    "# Model architecture\n",
    "def build_model(input_shape):\n",
    "    model = Sequential()\n",
    "    model.add(Conv2D(32, kernel_size=(3, 3), activation='relu', input_shape=input_shape))\n",
    "    model.add(MaxPooling2D(pool_size=(2, 2)))\n",
    "    model.add(BatchNormalization())\n",
    "    model.add(Conv2D(64, kernel_size=(3, 3), activation='relu'))\n",
    "    model.add(MaxPooling2D(pool_size=(2, 2)))\n",
    "    model.add(BatchNormalization())\n",
    "    model.add(Flatten())\n",
    "    model.add(Dense(128, activation='relu'))\n",
    "    model.add(Dropout(0.5))\n",
    "    model.add(Dense(1, activation='sigmoid'))\n",
    "    return model"
   ]
  },
  {
   "cell_type": "code",
   "execution_count": 5,
   "metadata": {},
   "outputs": [],
   "source": [
    "# Train the model\n",
    "def train_model(X_train, y_train, X_val, y_val):\n",
    "    model = build_model(input_shape=X_train.shape[1:])\n",
    "    optimizer = Adam(learning_rate=0.001)  # Adjust the learning rate\n",
    "    model.compile(optimizer=optimizer, loss='binary_crossentropy', metrics=['accuracy'])\n",
    "\n",
    "    # Data Augmentation\n",
    "    datagen = ImageDataGenerator(rotation_range=10, width_shift_range=0.1, height_shift_range=0.1, shear_range=0.1, zoom_range=0.1, horizontal_flip=True)\n",
    "    datagen.fit(X_train)\n",
    "\n",
    "    # Early Stopping\n",
    "    early_stopping = EarlyStopping(monitor='val_loss', patience=3, restore_best_weights=True)\n",
    "\n",
    "    # Model Training\n",
    "    model.fit(datagen.flow(X_train, y_train, batch_size=32), validation_data=(X_val, y_val), epochs=20, callbacks=[early_stopping], verbose=1)\n",
    "\n",
    "    # Save the trained model to a file\n",
    "    model.save('new_model.h5')\n",
    "\n",
    "    return model\n"
   ]
  },
  {
   "cell_type": "code",
   "execution_count": 8,
   "metadata": {},
   "outputs": [],
   "source": [
    "# Main function\n",
    "def main():\n",
    "\n",
    "    train_data_path = 'Hindi_train.csv'\n",
    "    test_data_path = 'Hindi_test.csv'\n",
    "\n",
    "    # Load training data\n",
    "    data_train, labels_train = load_data(train_data_path)\n",
    "\n",
    "    # Load testing data\n",
    "    data_test, labels_test = load_data(test_data_path)\n",
    "\n",
    "    # Convert string labels to integers\n",
    "    y_train = np.array([1 if label == 'Yes' else 0 for label in labels_train])\n",
    "    y_test = np.array([1 if label == 'Yes' else 0 for label in labels_test])\n",
    "\n",
    "    # Combine datasets for k-fold cross-validation\n",
    "    data_combined = data_train + data_test\n",
    "    labels_combined = y_train.tolist() + y_test.tolist()\n",
    "\n",
    "    # Convert to numpy arrays\n",
    "    X_combined = np.array([preprocess_audio(os.path.join('./audios/', filename)) for filename in tqdm(data_combined, desc=\"Processing Audio\")])\n",
    "    y_combined = np.array(labels_combined)\n",
    "\n",
    "    # Initialize cross-validator\n",
    "    n_splits = 5  # You can adjust the number of folds\n",
    "    skf = StratifiedKFold(n_splits=n_splits, shuffle=True, random_state=42)\n",
    "\n",
    "    fold = 1\n",
    "    accuracies = []\n",
    "    all_true_labels = []\n",
    "    all_pred_labels = []\n",
    "\n",
    "    for train_index, val_index in skf.split(X_combined, y_combined):\n",
    "        X_train, X_val = X_combined[train_index], X_combined[val_index]\n",
    "        y_train, y_val = y_combined[train_index], y_combined[val_index]\n",
    "\n",
    "        X_train = X_train[..., np.newaxis]\n",
    "        X_val = X_val[..., np.newaxis]\n",
    "\n",
    "        # Train the model\n",
    "        model = train_model(X_train, y_train, X_val, y_val)\n",
    "\n",
    "        # Predict on the validation set\n",
    "        y_pred_probs = model.predict(X_val)\n",
    "        y_pred = (y_pred_probs > 0.5).astype(int)\n",
    "\n",
    "        # Evaluate accuracy\n",
    "        accuracy = accuracy_score(y_val, y_pred)\n",
    "        print(f\"Fold {fold} - Validation Accuracy: {accuracy * 100:.2f}%\")\n",
    "\n",
    "        # Collect true and predicted labels for confusion matrix\n",
    "        all_true_labels.extend(y_val)\n",
    "        all_pred_labels.extend(y_pred.flatten())\n",
    "\n",
    "        accuracies.append(accuracy)\n",
    "        fold += 1\n",
    "\n",
    "    # Calculate and print the overall accuracy\n",
    "    overall_accuracy = np.mean(accuracies)\n",
    "    print(f\"\\nOverall Cross-Validation Accuracy: {overall_accuracy * 100:.2f}%\")\n",
    "\n",
    "    # Calculate and print the confusion matrix\n",
    "    cm = confusion_matrix(all_true_labels, all_pred_labels)\n",
    "    print(\"\\nConfusion Matrix:\")\n",
    "    print(cm)\n",
    "\n",
    "    print(\"Cross-validation completed.\")"
   ]
  },
  {
   "cell_type": "code",
   "execution_count": 9,
   "metadata": {},
   "outputs": [
    {
     "name": "stderr",
     "output_type": "stream",
     "text": [
      "Processing Audio:   0%|          | 0/1191 [00:00<?, ?it/s]"
     ]
    },
    {
     "name": "stderr",
     "output_type": "stream",
     "text": [
      "Processing Audio: 100%|██████████| 1191/1191 [01:37<00:00, 12.24it/s]\n"
     ]
    },
    {
     "name": "stdout",
     "output_type": "stream",
     "text": [
      "Epoch 1/20\n",
      "30/30 [==============================] - 8s 172ms/step - loss: 1.5395 - accuracy: 0.5809 - val_loss: 3.4855 - val_accuracy: 0.5816\n",
      "Epoch 2/20\n",
      "30/30 [==============================] - 5s 166ms/step - loss: 1.5416 - accuracy: 0.5924 - val_loss: 1.1495 - val_accuracy: 0.6904\n",
      "Epoch 3/20\n",
      "30/30 [==============================] - 5s 155ms/step - loss: 1.5149 - accuracy: 0.6040 - val_loss: 2.9216 - val_accuracy: 0.5858\n",
      "Epoch 4/20\n",
      "30/30 [==============================] - 4s 145ms/step - loss: 1.5856 - accuracy: 0.6061 - val_loss: 1.0348 - val_accuracy: 0.7531\n",
      "Epoch 5/20\n",
      "30/30 [==============================] - 5s 160ms/step - loss: 1.2135 - accuracy: 0.6071 - val_loss: 1.3279 - val_accuracy: 0.7238\n",
      "Epoch 6/20\n",
      "30/30 [==============================] - 5s 147ms/step - loss: 1.1289 - accuracy: 0.6071 - val_loss: 0.6831 - val_accuracy: 0.7531\n",
      "Epoch 7/20\n",
      "30/30 [==============================] - 4s 140ms/step - loss: 1.0529 - accuracy: 0.6187 - val_loss: 0.7747 - val_accuracy: 0.7238\n",
      "Epoch 8/20\n",
      "30/30 [==============================] - 4s 139ms/step - loss: 1.0416 - accuracy: 0.6166 - val_loss: 0.7286 - val_accuracy: 0.6820\n",
      "Epoch 9/20\n",
      "30/30 [==============================] - 4s 144ms/step - loss: 0.9074 - accuracy: 0.6334 - val_loss: 1.0027 - val_accuracy: 0.6444\n"
     ]
    },
    {
     "name": "stderr",
     "output_type": "stream",
     "text": [
      "/home/user/.local/lib/python3.10/site-packages/keras/src/engine/training.py:3103: UserWarning: You are saving your model as an HDF5 file via `model.save()`. This file format is considered legacy. We recommend using instead the native Keras format, e.g. `model.save('my_model.keras')`.\n",
      "  saving_api.save_model(\n"
     ]
    },
    {
     "name": "stdout",
     "output_type": "stream",
     "text": [
      "8/8 [==============================] - 1s 33ms/step\n",
      "Fold 1 - Validation Accuracy: 75.31%\n",
      "Epoch 1/20\n",
      "30/30 [==============================] - 7s 146ms/step - loss: 1.6005 - accuracy: 0.5971 - val_loss: 2.8667 - val_accuracy: 0.7269\n",
      "Epoch 2/20\n",
      "30/30 [==============================] - 4s 140ms/step - loss: 1.5473 - accuracy: 0.5971 - val_loss: 1.6229 - val_accuracy: 0.7395\n",
      "Epoch 3/20\n",
      "30/30 [==============================] - 4s 136ms/step - loss: 1.5614 - accuracy: 0.6139 - val_loss: 4.1140 - val_accuracy: 0.6345\n",
      "Epoch 4/20\n",
      "30/30 [==============================] - 4s 138ms/step - loss: 1.5679 - accuracy: 0.6097 - val_loss: 5.3960 - val_accuracy: 0.6345\n",
      "Epoch 5/20\n",
      "30/30 [==============================] - 4s 146ms/step - loss: 1.2762 - accuracy: 0.6128 - val_loss: 3.2267 - val_accuracy: 0.6555\n"
     ]
    },
    {
     "name": "stderr",
     "output_type": "stream",
     "text": [
      "/home/user/.local/lib/python3.10/site-packages/keras/src/engine/training.py:3103: UserWarning: You are saving your model as an HDF5 file via `model.save()`. This file format is considered legacy. We recommend using instead the native Keras format, e.g. `model.save('my_model.keras')`.\n",
      "  saving_api.save_model(\n"
     ]
    },
    {
     "name": "stdout",
     "output_type": "stream",
     "text": [
      "8/8 [==============================] - 0s 36ms/step\n",
      "Fold 2 - Validation Accuracy: 73.95%\n",
      "Epoch 1/20\n",
      "30/30 [==============================] - 7s 157ms/step - loss: 1.4003 - accuracy: 0.5908 - val_loss: 5.3741 - val_accuracy: 0.5462\n",
      "Epoch 2/20\n",
      "30/30 [==============================] - 4s 142ms/step - loss: 1.2667 - accuracy: 0.5981 - val_loss: 5.5528 - val_accuracy: 0.4874\n",
      "Epoch 3/20\n",
      "30/30 [==============================] - 4s 140ms/step - loss: 1.3065 - accuracy: 0.6233 - val_loss: 1.4002 - val_accuracy: 0.6134\n",
      "Epoch 4/20\n",
      "30/30 [==============================] - 4s 135ms/step - loss: 1.3779 - accuracy: 0.6306 - val_loss: 2.4822 - val_accuracy: 0.5504\n",
      "Epoch 5/20\n",
      "30/30 [==============================] - 6s 182ms/step - loss: 1.1066 - accuracy: 0.6233 - val_loss: 0.7284 - val_accuracy: 0.6975\n",
      "Epoch 6/20\n",
      "30/30 [==============================] - 5s 157ms/step - loss: 1.0563 - accuracy: 0.6013 - val_loss: 0.9684 - val_accuracy: 0.6303\n",
      "Epoch 7/20\n",
      "30/30 [==============================] - 5s 149ms/step - loss: 0.8406 - accuracy: 0.6537 - val_loss: 0.7289 - val_accuracy: 0.6807\n",
      "Epoch 8/20\n",
      "30/30 [==============================] - 5s 157ms/step - loss: 0.8969 - accuracy: 0.6264 - val_loss: 0.6949 - val_accuracy: 0.6681\n",
      "Epoch 9/20\n",
      "30/30 [==============================] - 4s 144ms/step - loss: 0.8795 - accuracy: 0.6411 - val_loss: 1.1609 - val_accuracy: 0.6345\n",
      "Epoch 10/20\n",
      "30/30 [==============================] - 4s 150ms/step - loss: 0.7795 - accuracy: 0.6422 - val_loss: 0.6638 - val_accuracy: 0.6849\n",
      "Epoch 11/20\n",
      "30/30 [==============================] - 5s 167ms/step - loss: 0.8143 - accuracy: 0.6380 - val_loss: 0.8999 - val_accuracy: 0.6303\n",
      "Epoch 12/20\n",
      "30/30 [==============================] - 5s 148ms/step - loss: 0.6730 - accuracy: 0.6894 - val_loss: 0.6430 - val_accuracy: 0.7353\n",
      "Epoch 13/20\n",
      "30/30 [==============================] - 4s 137ms/step - loss: 0.6590 - accuracy: 0.6590 - val_loss: 0.5747 - val_accuracy: 0.7017\n",
      "Epoch 14/20\n",
      "30/30 [==============================] - 4s 138ms/step - loss: 0.6413 - accuracy: 0.6946 - val_loss: 0.5530 - val_accuracy: 0.7605\n",
      "Epoch 15/20\n",
      "30/30 [==============================] - 4s 145ms/step - loss: 0.6296 - accuracy: 0.6726 - val_loss: 0.5389 - val_accuracy: 0.7479\n",
      "Epoch 16/20\n",
      "30/30 [==============================] - 4s 138ms/step - loss: 0.6102 - accuracy: 0.6632 - val_loss: 0.5491 - val_accuracy: 0.6765\n",
      "Epoch 17/20\n",
      "30/30 [==============================] - 4s 146ms/step - loss: 0.6241 - accuracy: 0.6579 - val_loss: 0.5750 - val_accuracy: 0.6555\n",
      "Epoch 18/20\n",
      "30/30 [==============================] - 5s 154ms/step - loss: 0.5825 - accuracy: 0.6967 - val_loss: 0.5388 - val_accuracy: 0.7353\n",
      "Epoch 19/20\n",
      "30/30 [==============================] - 5s 159ms/step - loss: 0.5800 - accuracy: 0.6884 - val_loss: 0.5496 - val_accuracy: 0.7353\n",
      "Epoch 20/20\n",
      "30/30 [==============================] - 5s 158ms/step - loss: 0.5825 - accuracy: 0.6946 - val_loss: 0.5808 - val_accuracy: 0.7269\n"
     ]
    },
    {
     "name": "stderr",
     "output_type": "stream",
     "text": [
      "/home/user/.local/lib/python3.10/site-packages/keras/src/engine/training.py:3103: UserWarning: You are saving your model as an HDF5 file via `model.save()`. This file format is considered legacy. We recommend using instead the native Keras format, e.g. `model.save('my_model.keras')`.\n",
      "  saving_api.save_model(\n"
     ]
    },
    {
     "name": "stdout",
     "output_type": "stream",
     "text": [
      "8/8 [==============================] - 0s 34ms/step\n",
      "Fold 3 - Validation Accuracy: 72.69%\n",
      "Epoch 1/20\n",
      "30/30 [==============================] - 7s 148ms/step - loss: 1.5220 - accuracy: 0.5918 - val_loss: 5.2993 - val_accuracy: 0.5546\n",
      "Epoch 2/20\n",
      "30/30 [==============================] - 4s 144ms/step - loss: 1.5320 - accuracy: 0.6212 - val_loss: 5.4591 - val_accuracy: 0.6092\n",
      "Epoch 3/20\n",
      "30/30 [==============================] - 4s 142ms/step - loss: 1.4674 - accuracy: 0.5950 - val_loss: 2.4987 - val_accuracy: 0.6513\n",
      "Epoch 4/20\n",
      "30/30 [==============================] - 4s 135ms/step - loss: 1.3621 - accuracy: 0.6317 - val_loss: 4.8007 - val_accuracy: 0.5084\n",
      "Epoch 5/20\n",
      "30/30 [==============================] - 4s 130ms/step - loss: 1.2362 - accuracy: 0.6338 - val_loss: 1.3735 - val_accuracy: 0.6639\n",
      "Epoch 6/20\n",
      "30/30 [==============================] - 4s 140ms/step - loss: 1.0762 - accuracy: 0.6527 - val_loss: 1.0473 - val_accuracy: 0.6723\n",
      "Epoch 7/20\n",
      "30/30 [==============================] - 4s 145ms/step - loss: 1.0462 - accuracy: 0.6139 - val_loss: 0.8035 - val_accuracy: 0.6765\n",
      "Epoch 8/20\n",
      "30/30 [==============================] - 4s 131ms/step - loss: 0.9545 - accuracy: 0.6170 - val_loss: 0.8335 - val_accuracy: 0.6639\n",
      "Epoch 9/20\n",
      "30/30 [==============================] - 4s 148ms/step - loss: 0.8909 - accuracy: 0.6359 - val_loss: 0.7665 - val_accuracy: 0.6807\n",
      "Epoch 10/20\n",
      "30/30 [==============================] - 5s 155ms/step - loss: 0.8250 - accuracy: 0.6254 - val_loss: 0.7637 - val_accuracy: 0.6345\n",
      "Epoch 11/20\n",
      "30/30 [==============================] - 5s 152ms/step - loss: 0.7490 - accuracy: 0.6579 - val_loss: 0.6951 - val_accuracy: 0.6597\n",
      "Epoch 12/20\n",
      "30/30 [==============================] - 5s 159ms/step - loss: 0.6627 - accuracy: 0.6810 - val_loss: 0.6157 - val_accuracy: 0.6891\n",
      "Epoch 13/20\n",
      "30/30 [==============================] - 5s 157ms/step - loss: 0.6580 - accuracy: 0.6821 - val_loss: 0.6967 - val_accuracy: 0.6387\n",
      "Epoch 14/20\n",
      "30/30 [==============================] - 5s 162ms/step - loss: 0.6722 - accuracy: 0.6747 - val_loss: 0.7633 - val_accuracy: 0.6555\n",
      "Epoch 15/20\n",
      "30/30 [==============================] - 5s 168ms/step - loss: 0.6643 - accuracy: 0.6453 - val_loss: 0.6331 - val_accuracy: 0.7143\n"
     ]
    },
    {
     "name": "stderr",
     "output_type": "stream",
     "text": [
      "/home/user/.local/lib/python3.10/site-packages/keras/src/engine/training.py:3103: UserWarning: You are saving your model as an HDF5 file via `model.save()`. This file format is considered legacy. We recommend using instead the native Keras format, e.g. `model.save('my_model.keras')`.\n",
      "  saving_api.save_model(\n"
     ]
    },
    {
     "name": "stdout",
     "output_type": "stream",
     "text": [
      "8/8 [==============================] - 1s 34ms/step\n",
      "Fold 4 - Validation Accuracy: 68.91%\n",
      "Epoch 1/20\n",
      "30/30 [==============================] - 7s 152ms/step - loss: 1.5179 - accuracy: 0.5782 - val_loss: 1.9774 - val_accuracy: 0.6218\n",
      "Epoch 2/20\n",
      "30/30 [==============================] - 4s 129ms/step - loss: 1.7887 - accuracy: 0.6159 - val_loss: 6.1542 - val_accuracy: 0.5252\n",
      "Epoch 3/20\n",
      "30/30 [==============================] - 4s 142ms/step - loss: 1.5794 - accuracy: 0.5981 - val_loss: 4.0036 - val_accuracy: 0.5084\n",
      "Epoch 4/20\n",
      "30/30 [==============================] - 5s 151ms/step - loss: 1.4116 - accuracy: 0.6275 - val_loss: 0.6360 - val_accuracy: 0.7437\n",
      "Epoch 5/20\n",
      "30/30 [==============================] - 4s 133ms/step - loss: 1.3091 - accuracy: 0.6118 - val_loss: 0.9196 - val_accuracy: 0.7059\n",
      "Epoch 6/20\n",
      "30/30 [==============================] - 4s 147ms/step - loss: 1.1277 - accuracy: 0.6422 - val_loss: 0.9219 - val_accuracy: 0.6218\n",
      "Epoch 7/20\n",
      "30/30 [==============================] - 4s 145ms/step - loss: 1.1288 - accuracy: 0.6128 - val_loss: 0.6452 - val_accuracy: 0.7059\n"
     ]
    },
    {
     "name": "stderr",
     "output_type": "stream",
     "text": [
      "/home/user/.local/lib/python3.10/site-packages/keras/src/engine/training.py:3103: UserWarning: You are saving your model as an HDF5 file via `model.save()`. This file format is considered legacy. We recommend using instead the native Keras format, e.g. `model.save('my_model.keras')`.\n",
      "  saving_api.save_model(\n"
     ]
    },
    {
     "name": "stdout",
     "output_type": "stream",
     "text": [
      "8/8 [==============================] - 0s 30ms/step\n",
      "Fold 5 - Validation Accuracy: 74.37%\n",
      "\n",
      "Overall Cross-Validation Accuracy: 73.05%\n",
      "\n",
      "Confusion Matrix:\n",
      "[[509 126]\n",
      " [195 361]]\n",
      "Cross-validation completed.\n"
     ]
    }
   ],
   "source": [
    "if __name__ == \"__main__\":\n",
    "    main()"
   ]
  },
  {
   "cell_type": "code",
   "execution_count": null,
   "metadata": {},
   "outputs": [],
   "source": []
  }
 ],
 "metadata": {
  "kernelspec": {
   "display_name": "Python 3",
   "language": "python",
   "name": "python3"
  },
  "language_info": {
   "codemirror_mode": {
    "name": "ipython",
    "version": 3
   },
   "file_extension": ".py",
   "mimetype": "text/x-python",
   "name": "python",
   "nbconvert_exporter": "python",
   "pygments_lexer": "ipython3",
   "version": "3.10.12"
  }
 },
 "nbformat": 4,
 "nbformat_minor": 2
}
