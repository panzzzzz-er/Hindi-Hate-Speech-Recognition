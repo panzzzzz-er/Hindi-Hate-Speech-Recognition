{
 "cells": [
  {
   "cell_type": "code",
   "execution_count": 4,
   "metadata": {},
   "outputs": [],
   "source": [
    "from tensorflow.keras.models import load_model\n",
    "import numpy as np\n",
    "import librosa\n",
    "import pandas as pd"
   ]
  },
  {
   "cell_type": "code",
   "execution_count": 5,
   "metadata": {},
   "outputs": [],
   "source": [
    "# Preprocess audio data\n",
    "def preprocess_audio(file_path, target_duration=10):\n",
    "    audio, _ = librosa.load(file_path, sr=None)\n",
    "\n",
    "    target_length = int(target_duration * _)\n",
    "    if len(audio) < target_length:\n",
    "        audio = np.pad(audio, (0, target_length - len(audio)))\n",
    "    else:\n",
    "        audio = audio[:target_length]\n",
    "\n",
    "    mfccs = librosa.feature.mfcc(y=audio, sr=_, n_mfcc=13)\n",
    "    return mfccs"
   ]
  },
  {
   "cell_type": "code",
   "execution_count": 7,
   "metadata": {},
   "outputs": [
    {
     "name": "stdout",
     "output_type": "stream",
     "text": [
      "1/1 [==============================] - 0s 237ms/step\n",
      "Predictions: [0]\n"
     ]
    }
   ],
   "source": [
    "# Load the trained model\n",
    "model = load_model('/home/user/Documents/GitHub/Hindi-Hate-Speech-Recognition/new_model.h5')\n",
    "\n",
    "# Example: Make predictions on unseen data\n",
    "unseen_data_path = '/home/user/Documents/GitHub/Hindi-Hate-Speech-Recognition/UnseenData/unseen_sample.wav'\n",
    "# unseen_data_path = 'hindi_hate_speech_model.h5'\n",
    "unseen_audio = preprocess_audio(unseen_data_path)\n",
    "\n",
    "# Ensure that the input shape matches the model's expected input shape\n",
    "unseen_audio = unseen_audio[np.newaxis, ..., np.newaxis]\n",
    "\n",
    "# Make predictions\n",
    "predictions = model.predict(unseen_audio)\n",
    "\n",
    "# Threshold the predictions for binary classification\n",
    "binary_predictions = (predictions > 0.5).astype(int)\n",
    "\n",
    "# Print the predictions\n",
    "# If binary_predictions is [1], it means the model predicts the input audio contains hate speech. \n",
    "# If it is [0], it means the model predicts the input audio does not contain hate speech.\n",
    "\n",
    "print(\"Predictions:\", binary_predictions.flatten())"
   ]
  },
  {
   "cell_type": "code",
   "execution_count": 8,
   "metadata": {},
   "outputs": [
    {
     "name": "stdout",
     "output_type": "stream",
     "text": [
      "Raw Probabilities: [0.2091086]\n"
     ]
    }
   ],
   "source": [
    "# Print the raw probability scores\n",
    "print(\"Raw Probabilities:\", predictions.flatten())"
   ]
  },
  {
   "cell_type": "code",
   "execution_count": null,
   "metadata": {},
   "outputs": [],
   "source": []
  }
 ],
 "metadata": {
  "kernelspec": {
   "display_name": "Python 3",
   "language": "python",
   "name": "python3"
  },
  "language_info": {
   "codemirror_mode": {
    "name": "ipython",
    "version": 3
   },
   "file_extension": ".py",
   "mimetype": "text/x-python",
   "name": "python",
   "nbconvert_exporter": "python",
   "pygments_lexer": "ipython3",
   "version": "3.10.12"
  }
 },
 "nbformat": 4,
 "nbformat_minor": 2
}
