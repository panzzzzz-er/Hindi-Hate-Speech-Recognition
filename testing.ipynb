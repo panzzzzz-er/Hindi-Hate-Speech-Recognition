{
 "cells": [
  {
   "cell_type": "code",
   "execution_count": 6,
   "metadata": {},
   "outputs": [],
   "source": [
    "from tensorflow.keras.models import load_model\n",
    "import numpy as np\n",
    "import librosa\n",
    "import pandas as pd\n",
    "import os"
   ]
  },
  {
   "cell_type": "code",
   "execution_count": 7,
   "metadata": {},
   "outputs": [],
   "source": [
    "# Preprocess audio data\n",
    "def preprocess_audio(file_path, target_duration=10):\n",
    "    audio, _ = librosa.load(file_path, sr=None)\n",
    "\n",
    "    target_length = int(target_duration * _)\n",
    "    if len(audio) < target_length:\n",
    "        audio = np.pad(audio, (0, target_length - len(audio)))\n",
    "    else:\n",
    "        audio = audio[:target_length]\n",
    "\n",
    "    mfccs = librosa.feature.mfcc(y=audio, sr=_, n_mfcc=13)\n",
    "    return mfccs"
   ]
  },
  {
   "cell_type": "code",
   "execution_count": 8,
   "metadata": {},
   "outputs": [],
   "source": [
    "# Load the first two models from the 'final_model' directory and delete the rest\n",
    "def load_and_cleanup_models():\n",
    "    final_model_directory = 'final_model'\n",
    "\n",
    "    # List all files in the directory\n",
    "    all_files = os.listdir(final_model_directory)\n",
    "\n",
    "    # Filter only '.h5' files\n",
    "    h5_files = [file for file in all_files if file.endswith('.h5')]\n",
    "\n",
    "    # Sort files based on modification time\n",
    "    h5_files.sort(key=lambda x: os.path.getmtime(os.path.join(final_model_directory, x)))\n",
    "\n",
    "    # Keep the first two models and delete the rest\n",
    "    models_to_keep = h5_files[:2]\n",
    "\n",
    "    for file in h5_files[2:]:\n",
    "        file_path = os.path.join(final_model_directory, file)\n",
    "        os.remove(file_path)\n",
    "        print(f\"Deleted model: {file_path}\")\n",
    "\n",
    "    # Load the first model\n",
    "    if models_to_keep:\n",
    "        first_model_path = os.path.join(final_model_directory, models_to_keep[0])\n",
    "        model1 = load_model(first_model_path)\n",
    "        print(f\"Loaded first model: {first_model_path}\")\n",
    "    else:\n",
    "        model1 = None\n",
    "\n",
    "    return model1\n"
   ]
  },
  {
   "cell_type": "code",
   "execution_count": 9,
   "metadata": {},
   "outputs": [
    {
     "name": "stdout",
     "output_type": "stream",
     "text": [
      "Loaded first model: final_model/final_model_20240117_092228.h5\n",
      "1/1 [==============================] - 0s 239ms/step\n",
      "Predictions: [0]\n"
     ]
    }
   ],
   "source": [
    "# Load the trained model\n",
    "model = load_and_cleanup_models()\n",
    "\n",
    "# Example: Make predictions on unseen data\n",
    "unseen_data_path = 'unseen_sample.wav'\n",
    "# unseen_data_path = 'hindi_hate_speech_model.h5'\n",
    "unseen_audio = preprocess_audio(unseen_data_path)\n",
    "\n",
    "# Ensure that the input shape matches the model's expected input shape\n",
    "unseen_audio = unseen_audio[np.newaxis, ..., np.newaxis]\n",
    "\n",
    "# Make predictions\n",
    "predictions = model.predict(unseen_audio)\n",
    "\n",
    "# Threshold the predictions for binary classification\n",
    "binary_predictions = (predictions > 0.5).astype(int)\n",
    "\n",
    "# Print the predictions\n",
    "# If binary_predictions is [1], it means the model predicts the input audio contains hate speech. \n",
    "# If it is [0], it means the model predicts the input audio does not contain hate speech.\n",
    "\n",
    "print(\"Predictions:\", binary_predictions.flatten())"
   ]
  },
  {
   "cell_type": "code",
   "execution_count": 10,
   "metadata": {},
   "outputs": [
    {
     "name": "stdout",
     "output_type": "stream",
     "text": [
      "Raw Probabilities: [0.23563124]\n"
     ]
    }
   ],
   "source": [
    "# Print the raw probability scores\n",
    "print(\"Raw Probabilities:\", predictions.flatten())"
   ]
  }
 ],
 "metadata": {
  "kernelspec": {
   "display_name": "Python 3",
   "language": "python",
   "name": "python3"
  },
  "language_info": {
   "codemirror_mode": {
    "name": "ipython",
    "version": 3
   },
   "file_extension": ".py",
   "mimetype": "text/x-python",
   "name": "python",
   "nbconvert_exporter": "python",
   "pygments_lexer": "ipython3",
   "version": "3.10.12"
  }
 },
 "nbformat": 4,
 "nbformat_minor": 2
}
