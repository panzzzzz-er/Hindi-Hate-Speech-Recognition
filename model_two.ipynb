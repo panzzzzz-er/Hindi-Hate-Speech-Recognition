{
 "cells": [
  {
   "cell_type": "code",
   "execution_count": 1,
   "metadata": {},
   "outputs": [
    {
     "name": "stderr",
     "output_type": "stream",
     "text": [
      "/usr/lib/python3/dist-packages/scipy/__init__.py:146: UserWarning: A NumPy version >=1.17.3 and <1.25.0 is required for this version of SciPy (detected version 1.26.3\n",
      "  warnings.warn(f\"A NumPy version >={np_minversion} and <{np_maxversion}\"\n",
      "2024-01-17 23:05:50.910057: I external/local_tsl/tsl/cuda/cudart_stub.cc:31] Could not find cuda drivers on your machine, GPU will not be used.\n",
      "2024-01-17 23:05:51.046424: E external/local_xla/xla/stream_executor/cuda/cuda_dnn.cc:9261] Unable to register cuDNN factory: Attempting to register factory for plugin cuDNN when one has already been registered\n",
      "2024-01-17 23:05:51.046531: E external/local_xla/xla/stream_executor/cuda/cuda_fft.cc:607] Unable to register cuFFT factory: Attempting to register factory for plugin cuFFT when one has already been registered\n",
      "2024-01-17 23:05:51.049126: E external/local_xla/xla/stream_executor/cuda/cuda_blas.cc:1515] Unable to register cuBLAS factory: Attempting to register factory for plugin cuBLAS when one has already been registered\n",
      "2024-01-17 23:05:51.068485: I external/local_tsl/tsl/cuda/cudart_stub.cc:31] Could not find cuda drivers on your machine, GPU will not be used.\n",
      "2024-01-17 23:05:51.069541: I tensorflow/core/platform/cpu_feature_guard.cc:182] This TensorFlow binary is optimized to use available CPU instructions in performance-critical operations.\n",
      "To enable the following instructions: AVX2, in other operations, rebuild TensorFlow with the appropriate compiler flags.\n",
      "2024-01-17 23:05:53.700381: W tensorflow/compiler/tf2tensorrt/utils/py_utils.cc:38] TF-TRT Warning: Could not find TensorRT\n"
     ]
    }
   ],
   "source": [
    "import os\n",
    "import numpy as np\n",
    "import pandas as pd\n",
    "import librosa\n",
    "from tqdm import tqdm\n",
    "from datetime import datetime\n",
    "from sklearn.model_selection import StratifiedKFold\n",
    "from sklearn.metrics import accuracy_score, confusion_matrix\n",
    "from sklearn.model_selection import train_test_split\n",
    "from tensorflow.keras.models import Sequential\n",
    "from tensorflow.keras.layers import Conv2D, MaxPooling2D, Flatten, Dense, BatchNormalization, Dropout\n",
    "from tensorflow.keras.optimizers import Adam\n",
    "from tensorflow.keras.preprocessing.image import ImageDataGenerator\n",
    "from tensorflow.keras.callbacks import EarlyStopping"
   ]
  },
  {
   "cell_type": "code",
   "execution_count": 2,
   "metadata": {},
   "outputs": [],
   "source": [
    "# Load data from a single file\n",
    "def load_data(data_path):\n",
    "    df = pd.read_csv(data_path)\n",
    "    data = df['filename'].tolist()\n",
    "    labels = df['label'].tolist()\n",
    "    return data, labels"
   ]
  },
  {
   "cell_type": "code",
   "execution_count": 3,
   "metadata": {},
   "outputs": [],
   "source": [
    "# Preprocess audio data\n",
    "def preprocess_audio(file_path, target_duration=10):\n",
    "    audio, _ = librosa.load(file_path, sr=None)\n",
    "\n",
    "    target_length = int(target_duration * _)\n",
    "    if len(audio) < target_length:\n",
    "        audio = np.pad(audio, (0, target_length - len(audio)))\n",
    "    else:\n",
    "        audio = audio[:target_length]\n",
    "\n",
    "    mfccs = librosa.feature.mfcc(y=audio, sr=_, n_mfcc=13)\n",
    "    return mfccs"
   ]
  },
  {
   "cell_type": "code",
   "execution_count": 4,
   "metadata": {},
   "outputs": [],
   "source": [
    "def build_model(input_shape):\n",
    "    model = Sequential()\n",
    "    model.add(Conv2D(32, kernel_size=(3, 3), activation='relu', input_shape=input_shape))\n",
    "    model.add(MaxPooling2D(pool_size=(2, 2)))\n",
    "    model.add(BatchNormalization())\n",
    "    model.add(Conv2D(64, kernel_size=(3, 3), activation='relu'))\n",
    "    model.add(MaxPooling2D(pool_size=(2, 2)))\n",
    "    model.add(BatchNormalization())\n",
    "    model.add(Flatten())\n",
    "    model.add(Dense(128, activation='relu'))\n",
    "    model.add(Dropout(0.5))\n",
    "    model.add(Dense(1, activation='sigmoid'))\n",
    "    return model"
   ]
  },
  {
   "cell_type": "code",
   "execution_count": 5,
   "metadata": {},
   "outputs": [],
   "source": [
    "def train_model(X_train, y_train, X_val, y_val):\n",
    "    model = build_model(input_shape=X_train.shape[1:])\n",
    "    optimizer = Adam(learning_rate=0.001)  # Adjust the learning rate\n",
    "    model.compile(optimizer=optimizer, loss='binary_crossentropy', metrics=['accuracy'])\n",
    "\n",
    "    # Data Augmentation\n",
    "    datagen = ImageDataGenerator(rotation_range=10, width_shift_range=0.1, height_shift_range=0.1, shear_range=0.1, zoom_range=0.1, horizontal_flip=True)\n",
    "    datagen.fit(X_train)\n",
    "\n",
    "    # Early Stopping\n",
    "    early_stopping = EarlyStopping(monitor='val_loss', patience=3, restore_best_weights=True)\n",
    "\n",
    "    # Model Training\n",
    "    model.fit(datagen.flow(X_train, y_train, batch_size=32), validation_data=(X_val, y_val), epochs=20, callbacks=[early_stopping], verbose=1)\n",
    "\n",
    "    # Save the trained model to a file\n",
    "    model.save('temp_hindi_hate_speech_model.h5')\n",
    "\n",
    "    return model"
   ]
  },
  {
   "cell_type": "code",
   "execution_count": 11,
   "metadata": {},
   "outputs": [],
   "source": [
    "# Main function\n",
    "def main():\n",
    "\n",
    "    train_data_path = 'Hindi_train.csv'\n",
    "    test_data_path = 'Hindi_test.csv'\n",
    "\n",
    "    # Load training data\n",
    "    data_train, labels_train = load_data(train_data_path)\n",
    "\n",
    "    # Load testing data\n",
    "    data_test, labels_test = load_data(test_data_path)\n",
    "\n",
    "    # Convert string labels to integers\n",
    "    y_train = np.array([1 if label == 'Yes' else 0 for label in labels_train])\n",
    "    y_test = np.array([1 if label == 'Yes' else 0 for label in labels_test])\n",
    "\n",
    "    # Combine datasets for k-fold cross-validation\n",
    "    data_combined = data_train + data_test\n",
    "    labels_combined = y_train.tolist() + y_test.tolist()\n",
    "\n",
    "    # Convert to numpy arrays\n",
    "    X_combined = np.array([preprocess_audio(os.path.join('./audios/', filename)) for filename in tqdm(data_combined, desc=\"Processing Audio\")])\n",
    "    y_combined = np.array(labels_combined)\n",
    "\n",
    "    # Initialize cross-validator\n",
    "    n_splits = 5  # You can adjust the number of folds\n",
    "    skf = StratifiedKFold(n_splits=n_splits, shuffle=True, random_state=42)\n",
    "\n",
    "    fold = 1\n",
    "    accuracies = []\n",
    "    all_true_labels = []\n",
    "    all_pred_labels = []\n",
    "\n",
    "    for train_index, val_index in skf.split(X_combined, y_combined):\n",
    "        X_train, X_val = X_combined[train_index], X_combined[val_index]\n",
    "        y_train, y_val = y_combined[train_index], y_combined[val_index]\n",
    "\n",
    "        X_train = X_train[..., np.newaxis]\n",
    "        X_val = X_val[..., np.newaxis]\n",
    "\n",
    "        # Train the model\n",
    "        model = train_model(X_train, y_train, X_val, y_val)\n",
    "\n",
    "        # Predict on the validation set\n",
    "        y_pred_probs = model.predict(X_val)\n",
    "        y_pred = (y_pred_probs > 0.5).astype(int)\n",
    "\n",
    "        # Evaluate accuracy\n",
    "        accuracy = accuracy_score(y_val, y_pred)\n",
    "        print(f\"Fold {fold} - Validation Accuracy: {accuracy * 100:.2f}%\")\n",
    "\n",
    "        # Collect true and predicted labels for confusion matrix\n",
    "        all_true_labels.extend(y_val)\n",
    "        all_pred_labels.extend(y_pred.flatten())\n",
    "\n",
    "        accuracies.append(accuracy)\n",
    "        fold += 1\n",
    "\n",
    "    # Save the final trained model with date and time in the name, in 'final_model' directory\n",
    "    current_datetime = datetime.now().strftime(\"%Y%m%d_%H%M%S\")\n",
    "    final_model_filename = f\"final_model_{current_datetime}.h5\"\n",
    "    \n",
    "    model.save(final_model_filename)\n",
    "    print(f\"\\nFinal trained model saved as {final_model_filename}\")\n",
    "\n",
    "    # Calculate and print the overall accuracy\n",
    "    overall_accuracy = np.mean(accuracies)\n",
    "    print(f\"\\nOverall Cross-Validation Accuracy: {overall_accuracy * 100:.2f}%\")\n",
    "\n",
    "    # Calculate and print the confusion matrix\n",
    "    cm = confusion_matrix(all_true_labels, all_pred_labels)\n",
    "    print(\"\\nConfusion Matrix:\")\n",
    "    print(cm)\n",
    "\n",
    "    print(\"Cross-validation completed.\")"
   ]
  },
  {
   "cell_type": "code",
   "execution_count": 12,
   "metadata": {},
   "outputs": [
    {
     "name": "stderr",
     "output_type": "stream",
     "text": [
      "Processing Audio:   0%|          | 2/1191 [00:00<01:35, 12.39it/s]"
     ]
    },
    {
     "name": "stderr",
     "output_type": "stream",
     "text": [
      "Processing Audio: 100%|██████████| 1191/1191 [01:37<00:00, 12.15it/s]\n"
     ]
    },
    {
     "name": "stdout",
     "output_type": "stream",
     "text": [
      "Epoch 1/20\n",
      "30/30 [==============================] - 8s 173ms/step - loss: 1.4941 - accuracy: 0.6092 - val_loss: 2.1154 - val_accuracy: 0.7406\n",
      "Epoch 2/20\n",
      "30/30 [==============================] - 5s 157ms/step - loss: 1.3601 - accuracy: 0.6124 - val_loss: 2.2309 - val_accuracy: 0.7238\n",
      "Epoch 3/20\n",
      "30/30 [==============================] - 4s 147ms/step - loss: 1.4169 - accuracy: 0.6218 - val_loss: 1.1897 - val_accuracy: 0.7406\n",
      "Epoch 4/20\n",
      "30/30 [==============================] - 5s 161ms/step - loss: 1.4563 - accuracy: 0.6008 - val_loss: 2.5033 - val_accuracy: 0.6695\n",
      "Epoch 5/20\n",
      "30/30 [==============================] - 5s 170ms/step - loss: 1.0770 - accuracy: 0.6197 - val_loss: 1.4715 - val_accuracy: 0.6485\n",
      "Epoch 6/20\n",
      "30/30 [==============================] - 5s 153ms/step - loss: 1.0501 - accuracy: 0.6208 - val_loss: 1.1910 - val_accuracy: 0.7573\n"
     ]
    },
    {
     "name": "stderr",
     "output_type": "stream",
     "text": [
      "/home/user/.local/lib/python3.10/site-packages/keras/src/engine/training.py:3103: UserWarning: You are saving your model as an HDF5 file via `model.save()`. This file format is considered legacy. We recommend using instead the native Keras format, e.g. `model.save('my_model.keras')`.\n",
      "  saving_api.save_model(\n"
     ]
    },
    {
     "name": "stdout",
     "output_type": "stream",
     "text": [
      "8/8 [==============================] - 1s 44ms/step\n",
      "Fold 1 - Validation Accuracy: 74.06%\n",
      "Epoch 1/20\n",
      "30/30 [==============================] - 9s 180ms/step - loss: 1.4778 - accuracy: 0.6222 - val_loss: 4.0180 - val_accuracy: 0.6597\n",
      "Epoch 2/20\n",
      "30/30 [==============================] - 5s 156ms/step - loss: 1.5285 - accuracy: 0.6159 - val_loss: 2.5373 - val_accuracy: 0.6345\n",
      "Epoch 3/20\n",
      "30/30 [==============================] - 4s 144ms/step - loss: 1.4136 - accuracy: 0.6107 - val_loss: 1.9338 - val_accuracy: 0.7101\n",
      "Epoch 4/20\n",
      "30/30 [==============================] - 5s 165ms/step - loss: 1.6123 - accuracy: 0.5834 - val_loss: 3.7097 - val_accuracy: 0.6681\n",
      "Epoch 5/20\n",
      "30/30 [==============================] - 4s 142ms/step - loss: 1.3711 - accuracy: 0.6086 - val_loss: 1.0100 - val_accuracy: 0.7017\n",
      "Epoch 6/20\n",
      "30/30 [==============================] - 4s 135ms/step - loss: 1.1042 - accuracy: 0.6285 - val_loss: 1.1652 - val_accuracy: 0.7227\n",
      "Epoch 7/20\n",
      "30/30 [==============================] - 4s 143ms/step - loss: 1.0623 - accuracy: 0.6139 - val_loss: 1.6450 - val_accuracy: 0.6807\n",
      "Epoch 8/20\n",
      "30/30 [==============================] - 4s 133ms/step - loss: 0.9887 - accuracy: 0.6527 - val_loss: 2.1276 - val_accuracy: 0.6681\n"
     ]
    },
    {
     "name": "stderr",
     "output_type": "stream",
     "text": [
      "/home/user/.local/lib/python3.10/site-packages/keras/src/engine/training.py:3103: UserWarning: You are saving your model as an HDF5 file via `model.save()`. This file format is considered legacy. We recommend using instead the native Keras format, e.g. `model.save('my_model.keras')`.\n",
      "  saving_api.save_model(\n"
     ]
    },
    {
     "name": "stdout",
     "output_type": "stream",
     "text": [
      "8/8 [==============================] - 0s 32ms/step\n",
      "Fold 2 - Validation Accuracy: 70.17%\n",
      "Epoch 1/20\n",
      "30/30 [==============================] - 7s 157ms/step - loss: 1.4874 - accuracy: 0.5803 - val_loss: 2.3091 - val_accuracy: 0.6597\n",
      "Epoch 2/20\n",
      "30/30 [==============================] - 4s 133ms/step - loss: 1.4814 - accuracy: 0.5918 - val_loss: 5.8572 - val_accuracy: 0.5252\n",
      "Epoch 3/20\n",
      "30/30 [==============================] - 4s 134ms/step - loss: 1.3398 - accuracy: 0.6034 - val_loss: 1.3436 - val_accuracy: 0.6050\n",
      "Epoch 4/20\n",
      "30/30 [==============================] - 5s 166ms/step - loss: 1.2833 - accuracy: 0.6264 - val_loss: 1.4547 - val_accuracy: 0.5966\n",
      "Epoch 5/20\n",
      "30/30 [==============================] - 6s 190ms/step - loss: 1.2095 - accuracy: 0.6139 - val_loss: 0.7968 - val_accuracy: 0.6387\n",
      "Epoch 6/20\n",
      "30/30 [==============================] - 5s 154ms/step - loss: 1.2041 - accuracy: 0.6086 - val_loss: 1.4614 - val_accuracy: 0.5672\n",
      "Epoch 7/20\n",
      "30/30 [==============================] - 4s 147ms/step - loss: 1.0123 - accuracy: 0.6118 - val_loss: 0.6770 - val_accuracy: 0.7059\n",
      "Epoch 8/20\n",
      "30/30 [==============================] - 5s 152ms/step - loss: 0.9512 - accuracy: 0.5950 - val_loss: 0.6784 - val_accuracy: 0.6303\n",
      "Epoch 9/20\n",
      "30/30 [==============================] - 5s 162ms/step - loss: 0.8695 - accuracy: 0.6390 - val_loss: 0.7753 - val_accuracy: 0.6218\n",
      "Epoch 10/20\n",
      "30/30 [==============================] - 5s 151ms/step - loss: 0.8170 - accuracy: 0.6233 - val_loss: 0.6056 - val_accuracy: 0.6807\n",
      "Epoch 11/20\n",
      "30/30 [==============================] - 5s 160ms/step - loss: 0.7721 - accuracy: 0.6222 - val_loss: 0.5931 - val_accuracy: 0.6849\n",
      "Epoch 12/20\n",
      "30/30 [==============================] - 5s 154ms/step - loss: 0.7521 - accuracy: 0.6264 - val_loss: 0.5413 - val_accuracy: 0.7101\n",
      "Epoch 13/20\n",
      "30/30 [==============================] - 5s 157ms/step - loss: 0.6395 - accuracy: 0.6632 - val_loss: 0.6967 - val_accuracy: 0.6471\n",
      "Epoch 14/20\n",
      "30/30 [==============================] - 5s 158ms/step - loss: 0.6738 - accuracy: 0.6432 - val_loss: 0.8942 - val_accuracy: 0.6639\n",
      "Epoch 15/20\n",
      "30/30 [==============================] - 5s 152ms/step - loss: 0.6739 - accuracy: 0.6443 - val_loss: 0.6051 - val_accuracy: 0.6345\n"
     ]
    },
    {
     "name": "stderr",
     "output_type": "stream",
     "text": [
      "/home/user/.local/lib/python3.10/site-packages/keras/src/engine/training.py:3103: UserWarning: You are saving your model as an HDF5 file via `model.save()`. This file format is considered legacy. We recommend using instead the native Keras format, e.g. `model.save('my_model.keras')`.\n",
      "  saving_api.save_model(\n"
     ]
    },
    {
     "name": "stdout",
     "output_type": "stream",
     "text": [
      "8/8 [==============================] - 0s 37ms/step\n",
      "Fold 3 - Validation Accuracy: 71.01%\n",
      "Epoch 1/20\n",
      "30/30 [==============================] - 8s 184ms/step - loss: 1.3642 - accuracy: 0.5876 - val_loss: 4.1308 - val_accuracy: 0.5840\n",
      "Epoch 2/20\n",
      "30/30 [==============================] - 5s 157ms/step - loss: 1.3276 - accuracy: 0.5971 - val_loss: 1.1945 - val_accuracy: 0.6933\n",
      "Epoch 3/20\n",
      "30/30 [==============================] - 6s 187ms/step - loss: 1.2244 - accuracy: 0.6023 - val_loss: 1.5202 - val_accuracy: 0.6975\n",
      "Epoch 4/20\n",
      "30/30 [==============================] - 5s 149ms/step - loss: 1.3511 - accuracy: 0.6128 - val_loss: 1.2844 - val_accuracy: 0.6555\n",
      "Epoch 5/20\n",
      "30/30 [==============================] - 5s 155ms/step - loss: 1.2403 - accuracy: 0.6243 - val_loss: 1.8101 - val_accuracy: 0.6429\n"
     ]
    },
    {
     "name": "stderr",
     "output_type": "stream",
     "text": [
      "/home/user/.local/lib/python3.10/site-packages/keras/src/engine/training.py:3103: UserWarning: You are saving your model as an HDF5 file via `model.save()`. This file format is considered legacy. We recommend using instead the native Keras format, e.g. `model.save('my_model.keras')`.\n",
      "  saving_api.save_model(\n"
     ]
    },
    {
     "name": "stdout",
     "output_type": "stream",
     "text": [
      "8/8 [==============================] - 1s 42ms/step\n",
      "Fold 4 - Validation Accuracy: 69.33%\n",
      "Epoch 1/20\n",
      "30/30 [==============================] - 8s 169ms/step - loss: 1.2930 - accuracy: 0.5897 - val_loss: 3.0990 - val_accuracy: 0.6597\n",
      "Epoch 2/20\n",
      "30/30 [==============================] - 5s 157ms/step - loss: 1.4691 - accuracy: 0.6149 - val_loss: 1.2732 - val_accuracy: 0.6933\n",
      "Epoch 3/20\n",
      "30/30 [==============================] - 5s 157ms/step - loss: 1.4269 - accuracy: 0.6170 - val_loss: 3.4568 - val_accuracy: 0.5966\n",
      "Epoch 4/20\n",
      "30/30 [==============================] - 5s 165ms/step - loss: 1.3724 - accuracy: 0.5929 - val_loss: 2.8228 - val_accuracy: 0.6134\n",
      "Epoch 5/20\n",
      "30/30 [==============================] - 5s 151ms/step - loss: 1.2467 - accuracy: 0.6065 - val_loss: 1.0179 - val_accuracy: 0.7227\n",
      "Epoch 6/20\n",
      "30/30 [==============================] - 5s 153ms/step - loss: 1.1235 - accuracy: 0.6139 - val_loss: 1.1740 - val_accuracy: 0.6597\n",
      "Epoch 7/20\n",
      "30/30 [==============================] - 5s 160ms/step - loss: 0.9821 - accuracy: 0.6443 - val_loss: 1.0830 - val_accuracy: 0.6471\n",
      "Epoch 8/20\n",
      "30/30 [==============================] - 5s 167ms/step - loss: 1.0065 - accuracy: 0.6569 - val_loss: 1.5334 - val_accuracy: 0.6429\n"
     ]
    },
    {
     "name": "stderr",
     "output_type": "stream",
     "text": [
      "/home/user/.local/lib/python3.10/site-packages/keras/src/engine/training.py:3103: UserWarning: You are saving your model as an HDF5 file via `model.save()`. This file format is considered legacy. We recommend using instead the native Keras format, e.g. `model.save('my_model.keras')`.\n",
      "  saving_api.save_model(\n"
     ]
    },
    {
     "name": "stdout",
     "output_type": "stream",
     "text": [
      "8/8 [==============================] - 1s 38ms/step\n",
      "Fold 5 - Validation Accuracy: 72.27%\n"
     ]
    },
    {
     "ename": "AttributeError",
     "evalue": "'str' object has no attribute 'keras'",
     "output_type": "error",
     "traceback": [
      "\u001b[0;31m---------------------------------------------------------------------------\u001b[0m",
      "\u001b[0;31mAttributeError\u001b[0m                            Traceback (most recent call last)",
      "\u001b[0;32m/tmp/ipykernel_3107/3832242952.py\u001b[0m in \u001b[0;36m<module>\u001b[0;34m\u001b[0m\n\u001b[1;32m      1\u001b[0m \u001b[0;32mif\u001b[0m \u001b[0m__name__\u001b[0m \u001b[0;34m==\u001b[0m \u001b[0;34m\"__main__\"\u001b[0m\u001b[0;34m:\u001b[0m\u001b[0;34m\u001b[0m\u001b[0;34m\u001b[0m\u001b[0m\n\u001b[0;32m----> 2\u001b[0;31m     \u001b[0mmain\u001b[0m\u001b[0;34m(\u001b[0m\u001b[0;34m)\u001b[0m\u001b[0;34m\u001b[0m\u001b[0;34m\u001b[0m\u001b[0m\n\u001b[0m",
      "\u001b[0;32m/tmp/ipykernel_3107/2446865816.py\u001b[0m in \u001b[0;36mmain\u001b[0;34m()\u001b[0m\n\u001b[1;32m     61\u001b[0m     \u001b[0mfinal_model_filename\u001b[0m \u001b[0;34m=\u001b[0m \u001b[0;34mf\"final_model_{current_datetime}\"\u001b[0m\u001b[0;34m\u001b[0m\u001b[0;34m\u001b[0m\u001b[0m\n\u001b[1;32m     62\u001b[0m \u001b[0;34m\u001b[0m\u001b[0m\n\u001b[0;32m---> 63\u001b[0;31m     \u001b[0mmodel\u001b[0m\u001b[0;34m.\u001b[0m\u001b[0msave\u001b[0m\u001b[0;34m(\u001b[0m\u001b[0mfinal_model_filename\u001b[0m\u001b[0;34m.\u001b[0m\u001b[0mkeras\u001b[0m\u001b[0;34m)\u001b[0m\u001b[0;34m\u001b[0m\u001b[0;34m\u001b[0m\u001b[0m\n\u001b[0m\u001b[1;32m     64\u001b[0m     \u001b[0mprint\u001b[0m\u001b[0;34m(\u001b[0m\u001b[0;34mf\"\\nFinal trained model saved as {final_model_filename}\"\u001b[0m\u001b[0;34m)\u001b[0m\u001b[0;34m\u001b[0m\u001b[0;34m\u001b[0m\u001b[0m\n\u001b[1;32m     65\u001b[0m \u001b[0;34m\u001b[0m\u001b[0m\n",
      "\u001b[0;31mAttributeError\u001b[0m: 'str' object has no attribute 'keras'"
     ]
    }
   ],
   "source": [
    "if __name__ == \"__main__\":\n",
    "    main()"
   ]
  },
  {
   "cell_type": "code",
   "execution_count": null,
   "metadata": {},
   "outputs": [],
   "source": []
  }
 ],
 "metadata": {
  "kernelspec": {
   "display_name": "Python 3",
   "language": "python",
   "name": "python3"
  },
  "language_info": {
   "codemirror_mode": {
    "name": "ipython",
    "version": 3
   },
   "file_extension": ".py",
   "mimetype": "text/x-python",
   "name": "python",
   "nbconvert_exporter": "python",
   "pygments_lexer": "ipython3",
   "version": "3.10.12"
  }
 },
 "nbformat": 4,
 "nbformat_minor": 2
}
