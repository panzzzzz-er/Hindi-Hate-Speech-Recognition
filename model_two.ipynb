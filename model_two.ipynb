{
 "cells": [
  {
   "cell_type": "code",
   "execution_count": 44,
   "metadata": {},
   "outputs": [],
   "source": [
    "import os\n",
    "import numpy as np\n",
    "import pandas as pd\n",
    "import librosa\n",
    "from tqdm import tqdm\n",
    "from sklearn.model_selection import StratifiedKFold\n",
    "from sklearn.metrics import accuracy_score, confusion_matrix\n",
    "from sklearn.model_selection import train_test_split\n",
    "from tensorflow.keras.models import Sequential\n",
    "from tensorflow.keras.layers import Conv2D, MaxPooling2D, Flatten, Dense, BatchNormalization, Dropout\n",
    "from tensorflow.keras.optimizers import Adam\n",
    "from tensorflow.keras.preprocessing.image import ImageDataGenerator\n",
    "from tensorflow.keras.callbacks import EarlyStopping"
   ]
  },
  {
   "cell_type": "code",
   "execution_count": 45,
   "metadata": {},
   "outputs": [],
   "source": [
    "# Load data from a single file\n",
    "def load_data(data_path):\n",
    "    df = pd.read_csv(data_path)\n",
    "    data = df['filename'].tolist()\n",
    "    labels = df['label'].tolist()\n",
    "    return data, labels"
   ]
  },
  {
   "cell_type": "code",
   "execution_count": 46,
   "metadata": {},
   "outputs": [],
   "source": [
    "# Preprocess audio data\n",
    "def preprocess_audio(file_path, target_duration=10):\n",
    "    audio, _ = librosa.load(file_path, sr=None)\n",
    "\n",
    "    target_length = int(target_duration * _)\n",
    "    if len(audio) < target_length:\n",
    "        audio = np.pad(audio, (0, target_length - len(audio)))\n",
    "    else:\n",
    "        audio = audio[:target_length]\n",
    "\n",
    "    mfccs = librosa.feature.mfcc(y=audio, sr=_, n_mfcc=13)\n",
    "    return mfccs"
   ]
  },
  {
   "cell_type": "code",
   "execution_count": 47,
   "metadata": {},
   "outputs": [],
   "source": [
    "# Model architecture\n",
    "def build_model(input_shape):\n",
    "    model = Sequential()\n",
    "    model.add(Conv2D(32, kernel_size=(3, 3), activation='relu', input_shape=input_shape))\n",
    "    model.add(MaxPooling2D(pool_size=(2, 2)))\n",
    "    model.add(BatchNormalization())\n",
    "    model.add(Conv2D(64, kernel_size=(3, 3), activation='relu'))\n",
    "    model.add(MaxPooling2D(pool_size=(2, 2)))\n",
    "    model.add(BatchNormalization())\n",
    "    model.add(Flatten())\n",
    "    model.add(Dense(128, activation='relu'))\n",
    "    model.add(Dropout(0.5))\n",
    "    model.add(Dense(1, activation='sigmoid'))\n",
    "    return model"
   ]
  },
  {
   "cell_type": "code",
   "execution_count": 48,
   "metadata": {},
   "outputs": [],
   "source": [
    "# Train the model\n",
    "def train_model(X_train, y_train, X_val, y_val):\n",
    "    model = build_model(input_shape=X_train.shape[1:])\n",
    "    optimizer = Adam(learning_rate=0.001)  # Adjust the learning rate\n",
    "    model.compile(optimizer=optimizer, loss='binary_crossentropy', metrics=['accuracy'])\n",
    "\n",
    "    # Data Augmentation\n",
    "    datagen = ImageDataGenerator(rotation_range=10, width_shift_range=0.1, height_shift_range=0.1, shear_range=0.1, zoom_range=0.1, horizontal_flip=True)\n",
    "    datagen.fit(X_train)\n",
    "\n",
    "    # Early Stopping\n",
    "    early_stopping = EarlyStopping(monitor='val_loss', patience=3, restore_best_weights=True)\n",
    "\n",
    "    # Model Training\n",
    "    model.fit(datagen.flow(X_train, y_train, batch_size=32), validation_data=(X_val, y_val), epochs=20, callbacks=[early_stopping], verbose=1)\n",
    "\n",
    "    # Save the trained model to a file\n",
    "    model.save('new_model.h5')\n",
    "\n",
    "    return model\n"
   ]
  },
  {
   "cell_type": "code",
   "execution_count": 49,
   "metadata": {},
   "outputs": [],
   "source": [
    "# Main function\n",
    "def main():\n",
    "\n",
    "    train_data_path = 'Hindi_train.csv'\n",
    "    test_data_path = 'Hindi_test.csv'\n",
    "\n",
    "    # Load training data\n",
    "    data_train, labels_train = load_data(train_data_path)\n",
    "\n",
    "    # Load testing data\n",
    "    data_test, labels_test = load_data(test_data_path)\n",
    "\n",
    "    # Convert string labels to integers\n",
    "    y_train = np.array([1 if label == 'Yes' else 0 for label in labels_train])\n",
    "    y_test = np.array([1 if label == 'Yes' else 0 for label in labels_test])\n",
    "\n",
    "    # Combine datasets for k-fold cross-validation\n",
    "    data_combined = data_train + data_test\n",
    "    labels_combined = y_train.tolist() + y_test.tolist()\n",
    "\n",
    "    # Convert to numpy arrays\n",
    "    X_combined = np.array([preprocess_audio(os.path.join('./audios/', filename)) for filename in tqdm(data_combined, desc=\"Processing Audio\")])\n",
    "    y_combined = np.array(labels_combined)\n",
    "\n",
    "    # Initialize cross-validator\n",
    "    n_splits = 5  # You can adjust the number of folds\n",
    "    skf = StratifiedKFold(n_splits=n_splits, shuffle=True, random_state=42)\n",
    "\n",
    "    fold = 1\n",
    "    accuracies = []\n",
    "    all_true_labels = []\n",
    "    all_pred_labels = []\n",
    "\n",
    "    for train_index, val_index in skf.split(X_combined, y_combined):\n",
    "        X_train, X_val = X_combined[train_index], X_combined[val_index]\n",
    "        y_train, y_val = y_combined[train_index], y_combined[val_index]\n",
    "\n",
    "        X_train = X_train[..., np.newaxis]\n",
    "        X_val = X_val[..., np.newaxis]\n",
    "\n",
    "        # Train the model\n",
    "        model = train_model(X_train, y_train, X_val, y_val)\n",
    "\n",
    "        # Predict on the validation set\n",
    "        y_pred_probs = model.predict(X_val)\n",
    "        y_pred = (y_pred_probs > 0.5).astype(int)\n",
    "\n",
    "        # Evaluate accuracy\n",
    "        accuracy = accuracy_score(y_val, y_pred)\n",
    "        print(f\"Fold {fold} - Validation Accuracy: {accuracy * 100:.2f}%\")\n",
    "\n",
    "        # Collect true and predicted labels for confusion matrix\n",
    "        all_true_labels.extend(y_val)\n",
    "        all_pred_labels.extend(y_pred.flatten())\n",
    "\n",
    "        accuracies.append(accuracy)\n",
    "        fold += 1\n",
    "\n",
    "    # Calculate and print the overall accuracy\n",
    "    overall_accuracy = np.mean(accuracies)\n",
    "    print(f\"\\nOverall Cross-Validation Accuracy: {overall_accuracy * 100:.2f}%\")\n",
    "\n",
    "    # Calculate and print the confusion matrix\n",
    "    cm = confusion_matrix(all_true_labels, all_pred_labels)\n",
    "    print(\"\\nConfusion Matrix:\")\n",
    "    print(cm)\n",
    "\n",
    "    print(\"Cross-validation completed.\")"
   ]
  },
  {
   "cell_type": "code",
   "execution_count": 50,
   "metadata": {},
   "outputs": [
    {
     "name": "stderr",
     "output_type": "stream",
     "text": [
      "Processing Audio:   0%|          | 4/1191 [00:00<00:36, 32.72it/s]"
     ]
    },
    {
     "name": "stderr",
     "output_type": "stream",
     "text": [
      "Processing Audio: 100%|██████████| 1191/1191 [01:34<00:00, 12.65it/s]\n"
     ]
    },
    {
     "name": "stdout",
     "output_type": "stream",
     "text": [
      "Epoch 1/20\n",
      "30/30 [==============================] - 13s 270ms/step - loss: 1.4997 - accuracy: 0.6008 - val_loss: 4.0774 - val_accuracy: 0.5858\n",
      "Epoch 2/20\n",
      "30/30 [==============================] - 6s 193ms/step - loss: 1.5338 - accuracy: 0.5903 - val_loss: 2.6712 - val_accuracy: 0.6360\n",
      "Epoch 3/20\n",
      "30/30 [==============================] - 6s 183ms/step - loss: 1.3484 - accuracy: 0.6176 - val_loss: 3.1645 - val_accuracy: 0.5858\n",
      "Epoch 4/20\n",
      "30/30 [==============================] - 5s 168ms/step - loss: 1.2759 - accuracy: 0.6113 - val_loss: 1.7700 - val_accuracy: 0.6109\n",
      "Epoch 5/20\n",
      "30/30 [==============================] - 6s 182ms/step - loss: 1.2801 - accuracy: 0.6071 - val_loss: 1.2110 - val_accuracy: 0.6067\n",
      "Epoch 6/20\n",
      "30/30 [==============================] - 6s 205ms/step - loss: 1.0784 - accuracy: 0.6292 - val_loss: 0.7175 - val_accuracy: 0.7238\n",
      "Epoch 7/20\n",
      "30/30 [==============================] - 7s 219ms/step - loss: 1.0666 - accuracy: 0.6040 - val_loss: 1.3536 - val_accuracy: 0.6109\n",
      "Epoch 8/20\n",
      "30/30 [==============================] - 6s 203ms/step - loss: 1.1105 - accuracy: 0.6103 - val_loss: 1.3430 - val_accuracy: 0.5314\n",
      "Epoch 9/20\n",
      "30/30 [==============================] - 6s 210ms/step - loss: 0.9799 - accuracy: 0.6187 - val_loss: 0.9093 - val_accuracy: 0.6736\n"
     ]
    },
    {
     "name": "stderr",
     "output_type": "stream",
     "text": [
      "/home/user/.local/lib/python3.10/site-packages/keras/src/engine/training.py:3103: UserWarning: You are saving your model as an HDF5 file via `model.save()`. This file format is considered legacy. We recommend using instead the native Keras format, e.g. `model.save('my_model.keras')`.\n",
      "  saving_api.save_model(\n"
     ]
    },
    {
     "name": "stdout",
     "output_type": "stream",
     "text": [
      "8/8 [==============================] - 1s 45ms/step\n",
      "Fold 1 - Validation Accuracy: 72.38%\n",
      "Epoch 1/20\n",
      "30/30 [==============================] - 11s 252ms/step - loss: 1.7889 - accuracy: 0.5677 - val_loss: 1.1526 - val_accuracy: 0.6597\n",
      "Epoch 2/20\n",
      "30/30 [==============================] - 7s 219ms/step - loss: 1.4243 - accuracy: 0.5719 - val_loss: 3.1129 - val_accuracy: 0.5462\n",
      "Epoch 3/20\n",
      "30/30 [==============================] - 7s 240ms/step - loss: 1.3866 - accuracy: 0.6139 - val_loss: 1.1294 - val_accuracy: 0.6723\n",
      "Epoch 4/20\n",
      "30/30 [==============================] - 8s 252ms/step - loss: 1.2812 - accuracy: 0.6306 - val_loss: 1.0631 - val_accuracy: 0.6807\n",
      "Epoch 5/20\n",
      "30/30 [==============================] - 7s 221ms/step - loss: 1.2496 - accuracy: 0.5897 - val_loss: 3.3268 - val_accuracy: 0.6008\n",
      "Epoch 6/20\n",
      "30/30 [==============================] - 7s 223ms/step - loss: 1.0920 - accuracy: 0.6118 - val_loss: 2.3204 - val_accuracy: 0.6134\n",
      "Epoch 7/20\n",
      "30/30 [==============================] - 7s 224ms/step - loss: 1.0311 - accuracy: 0.5908 - val_loss: 1.0947 - val_accuracy: 0.6891\n"
     ]
    },
    {
     "name": "stderr",
     "output_type": "stream",
     "text": [
      "/home/user/.local/lib/python3.10/site-packages/keras/src/engine/training.py:3103: UserWarning: You are saving your model as an HDF5 file via `model.save()`. This file format is considered legacy. We recommend using instead the native Keras format, e.g. `model.save('my_model.keras')`.\n",
      "  saving_api.save_model(\n"
     ]
    },
    {
     "name": "stdout",
     "output_type": "stream",
     "text": [
      "8/8 [==============================] - 1s 72ms/step\n",
      "Fold 2 - Validation Accuracy: 68.07%\n",
      "Epoch 1/20\n",
      "30/30 [==============================] - 11s 225ms/step - loss: 1.4720 - accuracy: 0.5908 - val_loss: 3.2029 - val_accuracy: 0.6429\n",
      "Epoch 2/20\n",
      "30/30 [==============================] - 6s 203ms/step - loss: 1.5513 - accuracy: 0.5981 - val_loss: 5.8178 - val_accuracy: 0.5630\n",
      "Epoch 3/20\n",
      "30/30 [==============================] - 7s 214ms/step - loss: 1.3875 - accuracy: 0.6149 - val_loss: 1.6262 - val_accuracy: 0.6723\n",
      "Epoch 4/20\n",
      "30/30 [==============================] - 6s 194ms/step - loss: 1.4175 - accuracy: 0.6044 - val_loss: 1.1193 - val_accuracy: 0.6597\n",
      "Epoch 5/20\n",
      "30/30 [==============================] - 5s 169ms/step - loss: 1.4750 - accuracy: 0.5740 - val_loss: 1.1850 - val_accuracy: 0.7059\n",
      "Epoch 6/20\n",
      "30/30 [==============================] - 5s 169ms/step - loss: 1.4162 - accuracy: 0.6023 - val_loss: 1.1335 - val_accuracy: 0.6555\n",
      "Epoch 7/20\n",
      "30/30 [==============================] - 5s 171ms/step - loss: 1.1925 - accuracy: 0.5761 - val_loss: 1.0207 - val_accuracy: 0.6387\n",
      "Epoch 8/20\n",
      "30/30 [==============================] - 5s 174ms/step - loss: 0.9772 - accuracy: 0.6327 - val_loss: 1.0613 - val_accuracy: 0.6513\n",
      "Epoch 9/20\n",
      "30/30 [==============================] - 5s 169ms/step - loss: 0.8597 - accuracy: 0.6369 - val_loss: 1.1083 - val_accuracy: 0.6765\n",
      "Epoch 10/20\n",
      "30/30 [==============================] - 6s 208ms/step - loss: 0.8468 - accuracy: 0.6327 - val_loss: 1.1129 - val_accuracy: 0.6765\n"
     ]
    },
    {
     "name": "stderr",
     "output_type": "stream",
     "text": [
      "/home/user/.local/lib/python3.10/site-packages/keras/src/engine/training.py:3103: UserWarning: You are saving your model as an HDF5 file via `model.save()`. This file format is considered legacy. We recommend using instead the native Keras format, e.g. `model.save('my_model.keras')`.\n",
      "  saving_api.save_model(\n"
     ]
    },
    {
     "name": "stdout",
     "output_type": "stream",
     "text": [
      "8/8 [==============================] - 1s 60ms/step\n",
      "Fold 3 - Validation Accuracy: 63.87%\n",
      "Epoch 1/20\n",
      "30/30 [==============================] - 12s 265ms/step - loss: 1.6043 - accuracy: 0.5666 - val_loss: 8.3861 - val_accuracy: 0.4664\n",
      "Epoch 2/20\n",
      "30/30 [==============================] - 6s 205ms/step - loss: 1.5357 - accuracy: 0.6044 - val_loss: 4.1614 - val_accuracy: 0.5168\n",
      "Epoch 3/20\n",
      "30/30 [==============================] - 6s 190ms/step - loss: 1.3170 - accuracy: 0.6128 - val_loss: 2.0689 - val_accuracy: 0.6891\n",
      "Epoch 4/20\n",
      "30/30 [==============================] - 6s 181ms/step - loss: 1.2269 - accuracy: 0.5719 - val_loss: 1.2521 - val_accuracy: 0.7059\n",
      "Epoch 5/20\n",
      "30/30 [==============================] - 5s 177ms/step - loss: 1.0884 - accuracy: 0.6201 - val_loss: 1.4779 - val_accuracy: 0.6807\n",
      "Epoch 6/20\n",
      "30/30 [==============================] - 6s 181ms/step - loss: 1.1578 - accuracy: 0.5929 - val_loss: 1.2257 - val_accuracy: 0.6975\n",
      "Epoch 7/20\n",
      "30/30 [==============================] - 5s 181ms/step - loss: 1.0157 - accuracy: 0.6159 - val_loss: 1.0081 - val_accuracy: 0.7311\n",
      "Epoch 8/20\n",
      "30/30 [==============================] - 6s 196ms/step - loss: 0.9149 - accuracy: 0.6170 - val_loss: 1.0274 - val_accuracy: 0.6933\n",
      "Epoch 9/20\n",
      "30/30 [==============================] - 5s 175ms/step - loss: 0.7828 - accuracy: 0.6327 - val_loss: 1.3404 - val_accuracy: 0.7017\n",
      "Epoch 10/20\n",
      "30/30 [==============================] - 6s 177ms/step - loss: 0.8534 - accuracy: 0.6254 - val_loss: 0.7806 - val_accuracy: 0.6429\n",
      "Epoch 11/20\n",
      "30/30 [==============================] - 7s 218ms/step - loss: 0.7890 - accuracy: 0.6317 - val_loss: 0.7799 - val_accuracy: 0.6807\n",
      "Epoch 12/20\n",
      "30/30 [==============================] - 6s 192ms/step - loss: 0.8044 - accuracy: 0.6201 - val_loss: 0.8000 - val_accuracy: 0.6849\n",
      "Epoch 13/20\n",
      "30/30 [==============================] - 5s 184ms/step - loss: 0.6906 - accuracy: 0.6611 - val_loss: 0.6510 - val_accuracy: 0.7437\n",
      "Epoch 14/20\n",
      "30/30 [==============================] - 6s 192ms/step - loss: 0.6310 - accuracy: 0.6726 - val_loss: 0.7935 - val_accuracy: 0.7395\n",
      "Epoch 15/20\n",
      "30/30 [==============================] - 6s 209ms/step - loss: 0.6923 - accuracy: 0.6464 - val_loss: 0.7216 - val_accuracy: 0.6933\n",
      "Epoch 16/20\n",
      "30/30 [==============================] - 6s 196ms/step - loss: 0.6350 - accuracy: 0.6737 - val_loss: 0.5571 - val_accuracy: 0.7101\n",
      "Epoch 17/20\n",
      "30/30 [==============================] - 6s 198ms/step - loss: 0.6317 - accuracy: 0.6758 - val_loss: 0.5877 - val_accuracy: 0.6891\n",
      "Epoch 18/20\n",
      "30/30 [==============================] - 6s 204ms/step - loss: 0.6398 - accuracy: 0.6590 - val_loss: 0.6364 - val_accuracy: 0.7185\n",
      "Epoch 19/20\n",
      "30/30 [==============================] - 6s 183ms/step - loss: 0.6183 - accuracy: 0.6758 - val_loss: 0.6642 - val_accuracy: 0.6807\n"
     ]
    },
    {
     "name": "stderr",
     "output_type": "stream",
     "text": [
      "/home/user/.local/lib/python3.10/site-packages/keras/src/engine/training.py:3103: UserWarning: You are saving your model as an HDF5 file via `model.save()`. This file format is considered legacy. We recommend using instead the native Keras format, e.g. `model.save('my_model.keras')`.\n",
      "  saving_api.save_model(\n"
     ]
    },
    {
     "name": "stdout",
     "output_type": "stream",
     "text": [
      "8/8 [==============================] - 0s 33ms/step\n",
      "Fold 4 - Validation Accuracy: 71.01%\n",
      "Epoch 1/20\n",
      "30/30 [==============================] - 8s 203ms/step - loss: 1.2590 - accuracy: 0.6139 - val_loss: 2.5633 - val_accuracy: 0.7101\n",
      "Epoch 2/20\n",
      "30/30 [==============================] - 5s 180ms/step - loss: 1.3721 - accuracy: 0.6243 - val_loss: 2.1784 - val_accuracy: 0.6807\n",
      "Epoch 3/20\n",
      "30/30 [==============================] - 5s 164ms/step - loss: 1.5898 - accuracy: 0.5845 - val_loss: 1.9969 - val_accuracy: 0.6933\n",
      "Epoch 4/20\n",
      "30/30 [==============================] - 6s 187ms/step - loss: 1.3825 - accuracy: 0.6023 - val_loss: 1.1641 - val_accuracy: 0.7017\n",
      "Epoch 5/20\n",
      "30/30 [==============================] - 6s 187ms/step - loss: 1.1180 - accuracy: 0.6139 - val_loss: 1.9941 - val_accuracy: 0.5546\n",
      "Epoch 6/20\n",
      "30/30 [==============================] - 6s 196ms/step - loss: 1.0988 - accuracy: 0.6275 - val_loss: 1.5007 - val_accuracy: 0.6933\n",
      "Epoch 7/20\n",
      "30/30 [==============================] - 6s 188ms/step - loss: 1.1276 - accuracy: 0.6201 - val_loss: 0.9280 - val_accuracy: 0.7059\n",
      "Epoch 8/20\n",
      "30/30 [==============================] - 6s 190ms/step - loss: 0.9518 - accuracy: 0.6118 - val_loss: 0.6856 - val_accuracy: 0.7017\n",
      "Epoch 9/20\n",
      "30/30 [==============================] - 6s 190ms/step - loss: 0.9319 - accuracy: 0.6013 - val_loss: 0.8802 - val_accuracy: 0.6933\n",
      "Epoch 10/20\n",
      "30/30 [==============================] - 6s 182ms/step - loss: 0.8801 - accuracy: 0.6180 - val_loss: 0.6290 - val_accuracy: 0.7227\n",
      "Epoch 11/20\n",
      "30/30 [==============================] - 6s 199ms/step - loss: 0.7798 - accuracy: 0.6222 - val_loss: 0.6116 - val_accuracy: 0.7479\n",
      "Epoch 12/20\n",
      "30/30 [==============================] - 6s 186ms/step - loss: 0.7365 - accuracy: 0.6495 - val_loss: 0.6059 - val_accuracy: 0.7311\n",
      "Epoch 13/20\n",
      "30/30 [==============================] - 6s 183ms/step - loss: 0.6794 - accuracy: 0.6590 - val_loss: 0.6903 - val_accuracy: 0.7059\n",
      "Epoch 14/20\n",
      "30/30 [==============================] - 6s 214ms/step - loss: 0.6810 - accuracy: 0.6558 - val_loss: 0.6142 - val_accuracy: 0.7563\n",
      "Epoch 15/20\n",
      "30/30 [==============================] - 6s 211ms/step - loss: 0.6753 - accuracy: 0.6569 - val_loss: 0.6345 - val_accuracy: 0.7227\n"
     ]
    },
    {
     "name": "stderr",
     "output_type": "stream",
     "text": [
      "/home/user/.local/lib/python3.10/site-packages/keras/src/engine/training.py:3103: UserWarning: You are saving your model as an HDF5 file via `model.save()`. This file format is considered legacy. We recommend using instead the native Keras format, e.g. `model.save('my_model.keras')`.\n",
      "  saving_api.save_model(\n"
     ]
    },
    {
     "name": "stdout",
     "output_type": "stream",
     "text": [
      "8/8 [==============================] - 1s 58ms/step\n",
      "Fold 5 - Validation Accuracy: 73.11%\n",
      "\n",
      "Overall Cross-Validation Accuracy: 69.69%\n",
      "\n",
      "Confusion Matrix:\n",
      "[[424 211]\n",
      " [150 406]]\n",
      "Cross-validation completed.\n"
     ]
    }
   ],
   "source": [
    "if __name__ == \"__main__\":\n",
    "    main()"
   ]
  },
  {
   "cell_type": "code",
   "execution_count": null,
   "metadata": {},
   "outputs": [],
   "source": []
  }
 ],
 "metadata": {
  "kernelspec": {
   "display_name": "Python 3",
   "language": "python",
   "name": "python3"
  },
  "language_info": {
   "codemirror_mode": {
    "name": "ipython",
    "version": 3
   },
   "file_extension": ".py",
   "mimetype": "text/x-python",
   "name": "python",
   "nbconvert_exporter": "python",
   "pygments_lexer": "ipython3",
   "version": "3.10.12"
  }
 },
 "nbformat": 4,
 "nbformat_minor": 2
}
