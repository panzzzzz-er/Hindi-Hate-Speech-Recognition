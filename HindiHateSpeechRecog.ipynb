{
 "cells": [
  {
   "cell_type": "code",
   "execution_count": 20,
   "metadata": {},
   "outputs": [],
   "source": [
    "import os\n",
    "import numpy as np\n",
    "import tensorflow as tf\n",
    "from tensorflow.keras.models import Sequential\n",
    "from tensorflow.keras.layers import Conv2D, MaxPooling2D, Flatten, Dense, BatchNormalization, Dropout\n",
    "from sklearn.model_selection import train_test_split\n",
    "import librosa\n",
    "from tqdm import tqdm"
   ]
  },
  {
   "cell_type": "code",
   "execution_count": 21,
   "metadata": {},
   "outputs": [],
   "source": [
    "# Load data\n",
    "def load_data(data_path):\n",
    "    data = []\n",
    "    labels = []\n",
    "    with open(data_path, 'r') as file:\n",
    "        next(file)  # Skip header\n",
    "        for line in file:\n",
    "            values = line.strip().split(',')\n",
    "            if len(values) == 2:\n",
    "                filename, label = values\n",
    "                data.append(filename)\n",
    "                labels.append(1 if label.lower() == 'yes' else 0)  # Convert labels to binary (0 or 1)\n",
    "            else:\n",
    "                print(f\"Issue with line: {line}\")\n",
    "\n",
    "    return data, labels"
   ]
  },
  {
   "cell_type": "code",
   "execution_count": 22,
   "metadata": {},
   "outputs": [],
   "source": [
    "# Preprocess audio data\n",
    "def preprocess_audio(file_path, target_duration=10):\n",
    "    # Load audio file\n",
    "    audio, _ = librosa.load(file_path, sr=None)\n",
    "\n",
    "    # Pad or truncate audio to the target duration\n",
    "    target_length = int(target_duration * _)\n",
    "    if len(audio) < target_length:\n",
    "        audio = np.pad(audio, (0, target_length - len(audio)))\n",
    "    else:\n",
    "        audio = audio[:target_length]\n",
    "\n",
    "    # Extract Mel-frequency cepstral coefficients (MFCCs)\n",
    "    mfccs = librosa.feature.mfcc(y=audio, sr=_, n_mfcc=13)\n",
    "\n",
    "    return mfccs\n"
   ]
  },
  {
   "cell_type": "code",
   "execution_count": 23,
   "metadata": {},
   "outputs": [],
   "source": [
    "def build_model(input_shape):\n",
    "    model = Sequential()\n",
    "\n",
    "    model.add(Conv2D(32, kernel_size=(3, 3), activation='relu', input_shape=input_shape))\n",
    "    model.add(MaxPooling2D(pool_size=(2, 2)))\n",
    "    model.add(BatchNormalization())\n",
    "    model.add(Flatten())\n",
    "    model.add(Dense(128, activation='relu'))\n",
    "    model.add(Dropout(0.5))\n",
    "    model.add(Dense(1, activation='sigmoid'))\n",
    "\n",
    "    return model"
   ]
  },
  {
   "cell_type": "code",
   "execution_count": 24,
   "metadata": {},
   "outputs": [],
   "source": [
    "# Train the model\n",
    "def train_model(X_train, y_train, X_val, y_val):\n",
    "    model = build_model(input_shape=X_train.shape[1:])\n",
    "    \n",
    "    model.compile(optimizer='adam', loss='binary_crossentropy', metrics=['accuracy'])\n",
    "\n",
    "    model.fit(X_train, y_train, validation_data=(X_val, y_val), epochs=10, batch_size=32)\n",
    "\n",
    "    return model\n"
   ]
  },
  {
   "cell_type": "code",
   "execution_count": 25,
   "metadata": {},
   "outputs": [],
   "source": [
    "# Main function\n",
    "def main():\n",
    "    train_data_path = 'Hindi_train.csv'  # Replace with your actual training dataset file\n",
    "    test_data_path = 'Hindi_test.csv'    # Replace with your actual testing dataset file\n",
    "\n",
    "    # Load training data\n",
    "    train_data, train_labels = load_data(train_data_path)\n",
    "    \n",
    "    # Load and preprocess training audio\n",
    "    X_train = []\n",
    "    for filename in tqdm(train_data, desc=\"Processing Training Audio\"):\n",
    "        file_path = os.path.join(os.path.dirname(train_data_path), 'audios', filename)\n",
    "        features = preprocess_audio(file_path)\n",
    "        X_train.append(features)\n",
    "\n",
    "    X_train = np.array(X_train)\n",
    "    y_train = np.array(train_labels)\n",
    "\n",
    "    # Reshape the input data to add a channel dimension\n",
    "    X_train = X_train[..., np.newaxis]\n",
    "\n",
    "    # Split the training dataset into training and validation sets\n",
    "    X_train, X_val, y_train, y_val = train_test_split(X_train, y_train, test_size=0.2, random_state=42)\n",
    "\n",
    "    # Reshape the validation data\n",
    "    X_val = X_val[..., np.newaxis]\n",
    "\n",
    "    # Train the model\n",
    "    model = train_model(X_train, y_train, X_val, y_val)\n",
    "\n",
    "    # Save the model\n",
    "    model.save('hindi_hate_speech_model.h5')\n",
    "\n",
    "    # Load test data\n",
    "    test_data, test_labels = load_data(test_data_path)\n",
    "\n",
    "    # Load and preprocess test audio\n",
    "    X_test = []\n",
    "    for filename in tqdm(test_data, desc=\"Processing Test Audio\"):\n",
    "        file_path = os.path.join(os.path.dirname(test_data_path), 'audios', filename)\n",
    "        features = preprocess_audio(file_path)\n",
    "        X_test.append(features)\n",
    "\n",
    "    X_test = np.array(X_test)\n",
    "    y_test = np.array(test_labels)\n",
    "\n",
    "    # Reshape the test data\n",
    "    X_test = X_test[..., np.newaxis]\n",
    "\n",
    "    # Evaluate the model on the test set\n",
    "    test_loss, test_accuracy = model.evaluate(X_test, y_test)\n",
    "    print(f\"Test Accuracy: {test_accuracy * 100:.2f}%\")\n"
   ]
  },
  {
   "cell_type": "code",
   "execution_count": 26,
   "metadata": {},
   "outputs": [
    {
     "name": "stderr",
     "output_type": "stream",
     "text": [
      "Processing Training Audio: 100%|██████████| 822/822 [00:52<00:00, 15.52it/s]\n"
     ]
    },
    {
     "name": "stdout",
     "output_type": "stream",
     "text": [
      "Epoch 1/10\n",
      "21/21 [==============================] - 5s 163ms/step - loss: 2.8522 - accuracy: 0.6469 - val_loss: 4.6033 - val_accuracy: 0.7394\n",
      "Epoch 2/10\n",
      "21/21 [==============================] - 3s 141ms/step - loss: 0.7233 - accuracy: 0.7230 - val_loss: 1.4021 - val_accuracy: 0.6727\n",
      "Epoch 3/10\n",
      "21/21 [==============================] - 3s 142ms/step - loss: 0.5194 - accuracy: 0.7626 - val_loss: 0.9157 - val_accuracy: 0.7152\n",
      "Epoch 4/10\n",
      "21/21 [==============================] - 3s 143ms/step - loss: 0.4699 - accuracy: 0.7915 - val_loss: 0.6833 - val_accuracy: 0.7030\n",
      "Epoch 5/10\n",
      "21/21 [==============================] - 3s 131ms/step - loss: 0.4629 - accuracy: 0.7900 - val_loss: 0.6454 - val_accuracy: 0.6970\n",
      "Epoch 6/10\n",
      "21/21 [==============================] - 3s 147ms/step - loss: 0.4235 - accuracy: 0.8067 - val_loss: 0.6810 - val_accuracy: 0.7212\n",
      "Epoch 7/10\n",
      "21/21 [==============================] - 3s 135ms/step - loss: 0.3776 - accuracy: 0.8326 - val_loss: 0.6546 - val_accuracy: 0.6970\n",
      "Epoch 8/10\n",
      "21/21 [==============================] - 3s 138ms/step - loss: 0.3988 - accuracy: 0.8082 - val_loss: 0.6198 - val_accuracy: 0.6606\n",
      "Epoch 9/10\n",
      "21/21 [==============================] - 3s 151ms/step - loss: 0.3577 - accuracy: 0.8417 - val_loss: 0.6079 - val_accuracy: 0.6727\n",
      "Epoch 10/10\n",
      "21/21 [==============================] - 3s 152ms/step - loss: 0.3307 - accuracy: 0.8615 - val_loss: 0.6514 - val_accuracy: 0.6667\n"
     ]
    },
    {
     "name": "stderr",
     "output_type": "stream",
     "text": [
      "/home/user/.local/lib/python3.10/site-packages/keras/src/engine/training.py:3103: UserWarning: You are saving your model as an HDF5 file via `model.save()`. This file format is considered legacy. We recommend using instead the native Keras format, e.g. `model.save('my_model.keras')`.\n",
      "  saving_api.save_model(\n",
      "Processing Test Audio: 100%|██████████| 369/369 [00:27<00:00, 13.23it/s]\n"
     ]
    },
    {
     "name": "stdout",
     "output_type": "stream",
     "text": [
      "12/12 [==============================] - 1s 28ms/step - loss: 0.6399 - accuracy: 0.7154\n",
      "Test Accuracy: 71.54%\n"
     ]
    }
   ],
   "source": [
    "if __name__ == \"__main__\":\n",
    "    main()"
   ]
  },
  {
   "cell_type": "code",
   "execution_count": null,
   "metadata": {},
   "outputs": [],
   "source": []
  }
 ],
 "metadata": {
  "kernelspec": {
   "display_name": "Python 3",
   "language": "python",
   "name": "python3"
  },
  "language_info": {
   "codemirror_mode": {
    "name": "ipython",
    "version": 3
   },
   "file_extension": ".py",
   "mimetype": "text/x-python",
   "name": "python",
   "nbconvert_exporter": "python",
   "pygments_lexer": "ipython3",
   "version": "3.10.12"
  }
 },
 "nbformat": 4,
 "nbformat_minor": 2
}
