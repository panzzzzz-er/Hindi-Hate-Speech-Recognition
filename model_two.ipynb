{
 "cells": [
  {
   "cell_type": "code",
   "execution_count": 15,
   "metadata": {},
   "outputs": [],
   "source": [
    "import os\n",
    "import numpy as np\n",
    "import pandas as pd\n",
    "import librosa\n",
    "from tqdm import tqdm\n",
    "from datetime import datetime\n",
    "from sklearn.model_selection import StratifiedKFold\n",
    "from sklearn.metrics import accuracy_score, confusion_matrix\n",
    "from sklearn.model_selection import train_test_split\n",
    "from tensorflow.keras.models import Sequential\n",
    "from tensorflow.keras.layers import Conv2D, MaxPooling2D, Flatten, Dense, BatchNormalization, Dropout\n",
    "from tensorflow.keras.optimizers import Adam\n",
    "from tensorflow.keras.preprocessing.image import ImageDataGenerator\n",
    "from tensorflow.keras.callbacks import EarlyStopping"
   ]
  },
  {
   "cell_type": "code",
   "execution_count": 16,
   "metadata": {},
   "outputs": [],
   "source": [
    "# Load data from a single file\n",
    "def load_data(data_path):\n",
    "    df = pd.read_csv(data_path)\n",
    "    data = df['filename'].tolist()\n",
    "    labels = df['label'].tolist()\n",
    "    return data, labels"
   ]
  },
  {
   "cell_type": "code",
   "execution_count": 17,
   "metadata": {},
   "outputs": [],
   "source": [
    "# Preprocess audio data\n",
    "def preprocess_audio(file_path, target_duration=10):\n",
    "    audio, _ = librosa.load(file_path, sr=None)\n",
    "\n",
    "    target_length = int(target_duration * _)\n",
    "    if len(audio) < target_length:\n",
    "        audio = np.pad(audio, (0, target_length - len(audio)))\n",
    "    else:\n",
    "        audio = audio[:target_length]\n",
    "\n",
    "    mfccs = librosa.feature.mfcc(y=audio, sr=_, n_mfcc=13)\n",
    "    return mfccs"
   ]
  },
  {
   "cell_type": "code",
   "execution_count": 18,
   "metadata": {},
   "outputs": [],
   "source": [
    "def build_model(input_shape):\n",
    "    model = Sequential()\n",
    "    model.add(Conv2D(32, kernel_size=(3, 3), activation='relu', input_shape=input_shape))\n",
    "    model.add(MaxPooling2D(pool_size=(2, 2)))\n",
    "    model.add(BatchNormalization())\n",
    "    model.add(Conv2D(64, kernel_size=(3, 3), activation='relu'))\n",
    "    model.add(MaxPooling2D(pool_size=(2, 2)))\n",
    "    model.add(BatchNormalization())\n",
    "    model.add(Flatten())\n",
    "    model.add(Dense(128, activation='relu'))\n",
    "    model.add(Dropout(0.5))\n",
    "    model.add(Dense(1, activation='sigmoid'))\n",
    "    return model"
   ]
  },
  {
   "cell_type": "code",
   "execution_count": 19,
   "metadata": {},
   "outputs": [],
   "source": [
    "def train_model(X_train, y_train, X_val, y_val):\n",
    "    model = build_model(input_shape=X_train.shape[1:])\n",
    "    optimizer = Adam(learning_rate=0.001)  # Adjust the learning rate\n",
    "    model.compile(optimizer=optimizer, loss='binary_crossentropy', metrics=['accuracy'])\n",
    "\n",
    "    # Data Augmentation\n",
    "    datagen = ImageDataGenerator(rotation_range=10, width_shift_range=0.1, height_shift_range=0.1, shear_range=0.1, zoom_range=0.1, horizontal_flip=True)\n",
    "    datagen.fit(X_train)\n",
    "\n",
    "    # Early Stopping\n",
    "    early_stopping = EarlyStopping(monitor='val_loss', patience=3, restore_best_weights=True)\n",
    "\n",
    "    # Model Training\n",
    "    model.fit(datagen.flow(X_train, y_train, batch_size=32), validation_data=(X_val, y_val), epochs=20, callbacks=[early_stopping], verbose=1)\n",
    "\n",
    "    # Save the trained model to a file\n",
    "    model.save('temp_hindi_hate_speech_model.h5')\n",
    "\n",
    "    return model"
   ]
  },
  {
   "cell_type": "code",
   "execution_count": 20,
   "metadata": {},
   "outputs": [],
   "source": [
    "# Main function\n",
    "def main():\n",
    "\n",
    "    train_data_path = 'Hindi_train.csv'\n",
    "    test_data_path = 'Hindi_test.csv'\n",
    "\n",
    "    # Load training data\n",
    "    data_train, labels_train = load_data(train_data_path)\n",
    "\n",
    "    # Load testing data\n",
    "    data_test, labels_test = load_data(test_data_path)\n",
    "\n",
    "    # Convert string labels to integers\n",
    "    y_train = np.array([1 if label == 'Yes' else 0 for label in labels_train])\n",
    "    y_test = np.array([1 if label == 'Yes' else 0 for label in labels_test])\n",
    "\n",
    "    # Combine datasets for k-fold cross-validation\n",
    "    data_combined = data_train + data_test\n",
    "    labels_combined = y_train.tolist() + y_test.tolist()\n",
    "\n",
    "    # Convert to numpy arrays\n",
    "    X_combined = np.array([preprocess_audio(os.path.join('./audios/', filename)) for filename in tqdm(data_combined, desc=\"Processing Audio\")])\n",
    "    y_combined = np.array(labels_combined)\n",
    "\n",
    "    # Initialize cross-validator\n",
    "    n_splits = 5  # You can adjust the number of folds\n",
    "    skf = StratifiedKFold(n_splits=n_splits, shuffle=True, random_state=42)\n",
    "\n",
    "    fold = 1\n",
    "    accuracies = []\n",
    "    all_true_labels = []\n",
    "    all_pred_labels = []\n",
    "\n",
    "    for train_index, val_index in skf.split(X_combined, y_combined):\n",
    "        X_train, X_val = X_combined[train_index], X_combined[val_index]\n",
    "        y_train, y_val = y_combined[train_index], y_combined[val_index]\n",
    "\n",
    "        X_train = X_train[..., np.newaxis]\n",
    "        X_val = X_val[..., np.newaxis]\n",
    "\n",
    "        # Train the model\n",
    "        model = train_model(X_train, y_train, X_val, y_val)\n",
    "\n",
    "        # Predict on the validation set\n",
    "        y_pred_probs = model.predict(X_val)\n",
    "        y_pred = (y_pred_probs > 0.5).astype(int)\n",
    "\n",
    "        # Evaluate accuracy\n",
    "        accuracy = accuracy_score(y_val, y_pred)\n",
    "        print(f\"Fold {fold} - Validation Accuracy: {accuracy * 100:.2f}%\")\n",
    "\n",
    "        # Collect true and predicted labels for confusion matrix\n",
    "        all_true_labels.extend(y_val)\n",
    "        all_pred_labels.extend(y_pred.flatten())\n",
    "\n",
    "        accuracies.append(accuracy)\n",
    "        fold += 1\n",
    "\n",
    "    # Save the final trained model with date and time in the name, in 'final_model' directory\n",
    "    current_datetime = datetime.now().strftime(\"%Y%m%d_%H%M%S\")\n",
    "    final_model_filename = f\"final_model_{current_datetime}.h5\"\n",
    "    final_model_directory = 'final_model'\n",
    "    \n",
    "    os.makedirs(final_model_directory, exist_ok=True)\n",
    "    final_model_path = os.path.join(final_model_directory, final_model_filename)\n",
    "    \n",
    "    model.save(final_model_path)\n",
    "    print(f\"\\nFinal trained model saved as {final_model_path}\")\n",
    "\n",
    "    # Calculate and print the overall accuracy\n",
    "    overall_accuracy = np.mean(accuracies)\n",
    "    print(f\"\\nOverall Cross-Validation Accuracy: {overall_accuracy * 100:.2f}%\")\n",
    "\n",
    "    # Calculate and print the confusion matrix\n",
    "    cm = confusion_matrix(all_true_labels, all_pred_labels)\n",
    "    print(\"\\nConfusion Matrix:\")\n",
    "    print(cm)\n",
    "\n",
    "    print(\"Cross-validation completed.\")"
   ]
  },
  {
   "cell_type": "code",
   "execution_count": 21,
   "metadata": {},
   "outputs": [
    {
     "name": "stderr",
     "output_type": "stream",
     "text": [
      "Processing Audio: 100%|██████████| 1191/1191 [01:32<00:00, 12.92it/s]\n"
     ]
    },
    {
     "name": "stdout",
     "output_type": "stream",
     "text": [
      "Epoch 1/20\n",
      "30/30 [==============================] - 8s 168ms/step - loss: 1.5062 - accuracy: 0.5714 - val_loss: 1.1815 - val_accuracy: 0.6695\n",
      "Epoch 2/20\n",
      "30/30 [==============================] - 5s 156ms/step - loss: 1.4472 - accuracy: 0.5914 - val_loss: 2.1575 - val_accuracy: 0.6444\n",
      "Epoch 3/20\n",
      "30/30 [==============================] - 4s 145ms/step - loss: 1.3352 - accuracy: 0.6208 - val_loss: 1.2944 - val_accuracy: 0.6987\n",
      "Epoch 4/20\n",
      "30/30 [==============================] - 5s 157ms/step - loss: 1.2463 - accuracy: 0.6187 - val_loss: 1.0243 - val_accuracy: 0.7364\n",
      "Epoch 5/20\n",
      "30/30 [==============================] - 5s 164ms/step - loss: 1.1713 - accuracy: 0.5956 - val_loss: 1.4661 - val_accuracy: 0.6234\n",
      "Epoch 6/20\n",
      "30/30 [==============================] - 5s 154ms/step - loss: 0.9987 - accuracy: 0.6639 - val_loss: 1.1949 - val_accuracy: 0.7029\n",
      "Epoch 7/20\n",
      "30/30 [==============================] - 4s 144ms/step - loss: 1.1264 - accuracy: 0.6197 - val_loss: 0.8462 - val_accuracy: 0.6862\n",
      "Epoch 8/20\n",
      "30/30 [==============================] - 4s 146ms/step - loss: 0.9056 - accuracy: 0.6176 - val_loss: 1.0265 - val_accuracy: 0.6736\n",
      "Epoch 9/20\n",
      "30/30 [==============================] - 5s 149ms/step - loss: 0.8947 - accuracy: 0.6008 - val_loss: 0.6750 - val_accuracy: 0.7155\n",
      "Epoch 10/20\n",
      "30/30 [==============================] - 4s 147ms/step - loss: 0.8610 - accuracy: 0.6050 - val_loss: 0.9091 - val_accuracy: 0.6736\n",
      "Epoch 11/20\n",
      "30/30 [==============================] - 5s 157ms/step - loss: 0.7764 - accuracy: 0.6208 - val_loss: 0.9034 - val_accuracy: 0.6904\n",
      "Epoch 12/20\n",
      "30/30 [==============================] - 4s 146ms/step - loss: 0.7338 - accuracy: 0.6397 - val_loss: 0.6084 - val_accuracy: 0.7071\n",
      "Epoch 13/20\n",
      "30/30 [==============================] - 4s 145ms/step - loss: 0.6886 - accuracy: 0.6565 - val_loss: 0.5404 - val_accuracy: 0.7322\n",
      "Epoch 14/20\n",
      "30/30 [==============================] - 5s 151ms/step - loss: 0.7122 - accuracy: 0.6450 - val_loss: 0.5940 - val_accuracy: 0.7406\n",
      "Epoch 15/20\n",
      "30/30 [==============================] - 5s 155ms/step - loss: 0.6429 - accuracy: 0.6586 - val_loss: 0.6712 - val_accuracy: 0.7238\n",
      "Epoch 16/20\n",
      "30/30 [==============================] - 5s 161ms/step - loss: 0.6083 - accuracy: 0.6880 - val_loss: 0.5342 - val_accuracy: 0.7448\n",
      "Epoch 17/20\n",
      "30/30 [==============================] - 5s 147ms/step - loss: 0.6239 - accuracy: 0.6618 - val_loss: 0.5024 - val_accuracy: 0.7615\n",
      "Epoch 18/20\n",
      "30/30 [==============================] - 5s 152ms/step - loss: 0.6268 - accuracy: 0.6891 - val_loss: 0.5108 - val_accuracy: 0.7531\n",
      "Epoch 19/20\n",
      "30/30 [==============================] - 5s 155ms/step - loss: 0.5946 - accuracy: 0.6880 - val_loss: 0.5034 - val_accuracy: 0.7490\n",
      "Epoch 20/20\n",
      "30/30 [==============================] - 4s 148ms/step - loss: 0.5868 - accuracy: 0.7048 - val_loss: 0.5532 - val_accuracy: 0.7364\n"
     ]
    },
    {
     "name": "stderr",
     "output_type": "stream",
     "text": [
      "/home/user/.local/lib/python3.10/site-packages/keras/src/engine/training.py:3103: UserWarning: You are saving your model as an HDF5 file via `model.save()`. This file format is considered legacy. We recommend using instead the native Keras format, e.g. `model.save('my_model.keras')`.\n",
      "  saving_api.save_model(\n"
     ]
    },
    {
     "name": "stdout",
     "output_type": "stream",
     "text": [
      "8/8 [==============================] - 1s 35ms/step\n",
      "Fold 1 - Validation Accuracy: 76.15%\n",
      "Epoch 1/20\n",
      "30/30 [==============================] - 7s 154ms/step - loss: 1.4005 - accuracy: 0.5960 - val_loss: 3.8431 - val_accuracy: 0.5840\n",
      "Epoch 2/20\n",
      "30/30 [==============================] - 4s 141ms/step - loss: 1.5856 - accuracy: 0.6055 - val_loss: 1.0622 - val_accuracy: 0.6471\n",
      "Epoch 3/20\n",
      "30/30 [==============================] - 5s 151ms/step - loss: 1.3639 - accuracy: 0.5929 - val_loss: 1.3455 - val_accuracy: 0.6429\n",
      "Epoch 4/20\n",
      "30/30 [==============================] - 4s 144ms/step - loss: 1.1137 - accuracy: 0.6264 - val_loss: 1.5468 - val_accuracy: 0.6387\n",
      "Epoch 5/20\n",
      "30/30 [==============================] - 4s 142ms/step - loss: 1.0143 - accuracy: 0.6632 - val_loss: 0.8893 - val_accuracy: 0.7227\n",
      "Epoch 6/20\n",
      "30/30 [==============================] - 4s 149ms/step - loss: 1.1531 - accuracy: 0.5971 - val_loss: 0.8364 - val_accuracy: 0.7143\n",
      "Epoch 7/20\n",
      "30/30 [==============================] - 5s 154ms/step - loss: 1.1270 - accuracy: 0.5866 - val_loss: 1.7382 - val_accuracy: 0.5672\n",
      "Epoch 8/20\n",
      "30/30 [==============================] - 4s 143ms/step - loss: 0.8561 - accuracy: 0.6401 - val_loss: 0.9324 - val_accuracy: 0.7227\n",
      "Epoch 9/20\n",
      "30/30 [==============================] - 4s 144ms/step - loss: 0.8907 - accuracy: 0.6222 - val_loss: 0.6322 - val_accuracy: 0.7017\n",
      "Epoch 10/20\n",
      "30/30 [==============================] - 5s 156ms/step - loss: 0.8408 - accuracy: 0.6317 - val_loss: 0.5731 - val_accuracy: 0.7269\n",
      "Epoch 11/20\n",
      "30/30 [==============================] - 5s 149ms/step - loss: 0.8447 - accuracy: 0.6254 - val_loss: 0.7259 - val_accuracy: 0.7059\n",
      "Epoch 12/20\n",
      "30/30 [==============================] - 5s 154ms/step - loss: 0.8156 - accuracy: 0.6222 - val_loss: 0.7945 - val_accuracy: 0.6681\n",
      "Epoch 13/20\n",
      "30/30 [==============================] - 4s 147ms/step - loss: 0.7033 - accuracy: 0.6411 - val_loss: 0.7403 - val_accuracy: 0.6765\n"
     ]
    },
    {
     "name": "stderr",
     "output_type": "stream",
     "text": [
      "/home/user/.local/lib/python3.10/site-packages/keras/src/engine/training.py:3103: UserWarning: You are saving your model as an HDF5 file via `model.save()`. This file format is considered legacy. We recommend using instead the native Keras format, e.g. `model.save('my_model.keras')`.\n",
      "  saving_api.save_model(\n"
     ]
    },
    {
     "name": "stdout",
     "output_type": "stream",
     "text": [
      "8/8 [==============================] - 0s 35ms/step\n",
      "Fold 2 - Validation Accuracy: 72.69%\n",
      "Epoch 1/20\n",
      "30/30 [==============================] - 7s 156ms/step - loss: 1.5518 - accuracy: 0.5687 - val_loss: 2.5273 - val_accuracy: 0.6429\n",
      "Epoch 2/20\n",
      "30/30 [==============================] - 4s 145ms/step - loss: 1.4762 - accuracy: 0.5750 - val_loss: 2.2190 - val_accuracy: 0.6513\n",
      "Epoch 3/20\n",
      "30/30 [==============================] - 4s 139ms/step - loss: 1.3950 - accuracy: 0.5918 - val_loss: 3.0655 - val_accuracy: 0.5504\n",
      "Epoch 4/20\n",
      "30/30 [==============================] - 4s 134ms/step - loss: 1.4246 - accuracy: 0.5939 - val_loss: 4.2685 - val_accuracy: 0.5672\n",
      "Epoch 5/20\n",
      "30/30 [==============================] - 4s 138ms/step - loss: 1.1733 - accuracy: 0.5981 - val_loss: 2.0912 - val_accuracy: 0.6807\n",
      "Epoch 6/20\n",
      "30/30 [==============================] - 4s 138ms/step - loss: 1.1019 - accuracy: 0.6159 - val_loss: 2.5539 - val_accuracy: 0.6681\n",
      "Epoch 7/20\n",
      "30/30 [==============================] - 4s 139ms/step - loss: 1.0458 - accuracy: 0.6338 - val_loss: 1.1719 - val_accuracy: 0.7017\n",
      "Epoch 8/20\n",
      "30/30 [==============================] - 4s 139ms/step - loss: 0.9361 - accuracy: 0.6023 - val_loss: 0.8912 - val_accuracy: 0.6975\n",
      "Epoch 9/20\n",
      "30/30 [==============================] - 4s 141ms/step - loss: 0.8401 - accuracy: 0.6076 - val_loss: 1.5545 - val_accuracy: 0.6597\n",
      "Epoch 10/20\n",
      "30/30 [==============================] - 4s 144ms/step - loss: 0.8685 - accuracy: 0.6327 - val_loss: 0.7567 - val_accuracy: 0.7143\n",
      "Epoch 11/20\n",
      "30/30 [==============================] - 4s 145ms/step - loss: 0.7394 - accuracy: 0.6369 - val_loss: 0.6989 - val_accuracy: 0.7143\n",
      "Epoch 12/20\n",
      "30/30 [==============================] - 4s 137ms/step - loss: 0.7087 - accuracy: 0.6474 - val_loss: 0.8372 - val_accuracy: 0.6807\n",
      "Epoch 13/20\n",
      "30/30 [==============================] - 4s 140ms/step - loss: 0.6585 - accuracy: 0.6569 - val_loss: 0.8915 - val_accuracy: 0.6891\n",
      "Epoch 14/20\n",
      "30/30 [==============================] - 4s 141ms/step - loss: 0.7060 - accuracy: 0.6359 - val_loss: 1.0966 - val_accuracy: 0.6681\n"
     ]
    },
    {
     "name": "stderr",
     "output_type": "stream",
     "text": [
      "/home/user/.local/lib/python3.10/site-packages/keras/src/engine/training.py:3103: UserWarning: You are saving your model as an HDF5 file via `model.save()`. This file format is considered legacy. We recommend using instead the native Keras format, e.g. `model.save('my_model.keras')`.\n",
      "  saving_api.save_model(\n"
     ]
    },
    {
     "name": "stdout",
     "output_type": "stream",
     "text": [
      "8/8 [==============================] - 0s 38ms/step\n",
      "Fold 3 - Validation Accuracy: 71.43%\n",
      "Epoch 1/20\n",
      "30/30 [==============================] - 7s 151ms/step - loss: 1.5874 - accuracy: 0.5813 - val_loss: 8.9543 - val_accuracy: 0.5336\n",
      "Epoch 2/20\n",
      "30/30 [==============================] - 4s 139ms/step - loss: 1.6072 - accuracy: 0.6034 - val_loss: 6.2349 - val_accuracy: 0.4832\n",
      "Epoch 3/20\n",
      "30/30 [==============================] - 5s 150ms/step - loss: 1.5363 - accuracy: 0.6170 - val_loss: 3.1974 - val_accuracy: 0.5504\n",
      "Epoch 4/20\n",
      "30/30 [==============================] - 5s 152ms/step - loss: 1.8917 - accuracy: 0.5782 - val_loss: 1.7105 - val_accuracy: 0.6345\n",
      "Epoch 5/20\n",
      "30/30 [==============================] - 5s 160ms/step - loss: 1.4753 - accuracy: 0.6327 - val_loss: 4.7232 - val_accuracy: 0.5000\n",
      "Epoch 6/20\n",
      "30/30 [==============================] - 4s 148ms/step - loss: 1.2527 - accuracy: 0.6149 - val_loss: 0.9080 - val_accuracy: 0.6807\n",
      "Epoch 7/20\n",
      "30/30 [==============================] - 4s 147ms/step - loss: 1.1462 - accuracy: 0.6201 - val_loss: 0.8797 - val_accuracy: 0.7185\n",
      "Epoch 8/20\n",
      "30/30 [==============================] - 4s 144ms/step - loss: 1.0615 - accuracy: 0.6306 - val_loss: 0.9575 - val_accuracy: 0.7059\n",
      "Epoch 9/20\n",
      "30/30 [==============================] - 5s 147ms/step - loss: 1.0345 - accuracy: 0.6034 - val_loss: 0.7143 - val_accuracy: 0.6975\n",
      "Epoch 10/20\n",
      "30/30 [==============================] - 4s 144ms/step - loss: 0.9135 - accuracy: 0.6338 - val_loss: 0.7126 - val_accuracy: 0.7185\n",
      "Epoch 11/20\n",
      "30/30 [==============================] - 4s 148ms/step - loss: 0.8147 - accuracy: 0.6674 - val_loss: 0.8748 - val_accuracy: 0.7269\n",
      "Epoch 12/20\n",
      "30/30 [==============================] - 4s 149ms/step - loss: 0.7288 - accuracy: 0.6443 - val_loss: 1.0401 - val_accuracy: 0.7101\n",
      "Epoch 13/20\n",
      "30/30 [==============================] - 4s 145ms/step - loss: 0.7261 - accuracy: 0.6464 - val_loss: 0.6418 - val_accuracy: 0.7101\n",
      "Epoch 14/20\n",
      "30/30 [==============================] - 4s 146ms/step - loss: 0.6518 - accuracy: 0.6768 - val_loss: 0.6823 - val_accuracy: 0.6849\n",
      "Epoch 15/20\n",
      "30/30 [==============================] - 4s 142ms/step - loss: 0.6271 - accuracy: 0.6894 - val_loss: 0.7305 - val_accuracy: 0.6261\n",
      "Epoch 16/20\n",
      "30/30 [==============================] - 4s 147ms/step - loss: 0.6247 - accuracy: 0.6737 - val_loss: 0.6437 - val_accuracy: 0.7017\n"
     ]
    },
    {
     "name": "stderr",
     "output_type": "stream",
     "text": [
      "/home/user/.local/lib/python3.10/site-packages/keras/src/engine/training.py:3103: UserWarning: You are saving your model as an HDF5 file via `model.save()`. This file format is considered legacy. We recommend using instead the native Keras format, e.g. `model.save('my_model.keras')`.\n",
      "  saving_api.save_model(\n"
     ]
    },
    {
     "name": "stdout",
     "output_type": "stream",
     "text": [
      "8/8 [==============================] - 0s 30ms/step\n",
      "Fold 4 - Validation Accuracy: 71.01%\n",
      "Epoch 1/20\n",
      "30/30 [==============================] - 8s 175ms/step - loss: 1.5284 - accuracy: 0.5656 - val_loss: 1.7489 - val_accuracy: 0.7353\n",
      "Epoch 2/20\n",
      "30/30 [==============================] - 5s 154ms/step - loss: 1.7133 - accuracy: 0.5981 - val_loss: 1.3914 - val_accuracy: 0.7437\n",
      "Epoch 3/20\n",
      "30/30 [==============================] - 5s 155ms/step - loss: 1.7954 - accuracy: 0.5929 - val_loss: 3.8006 - val_accuracy: 0.5714\n",
      "Epoch 4/20\n",
      "30/30 [==============================] - 5s 149ms/step - loss: 1.2831 - accuracy: 0.6128 - val_loss: 3.2257 - val_accuracy: 0.5924\n",
      "Epoch 5/20\n",
      "30/30 [==============================] - 4s 144ms/step - loss: 1.5457 - accuracy: 0.5887 - val_loss: 3.2383 - val_accuracy: 0.5588\n"
     ]
    },
    {
     "name": "stderr",
     "output_type": "stream",
     "text": [
      "/home/user/.local/lib/python3.10/site-packages/keras/src/engine/training.py:3103: UserWarning: You are saving your model as an HDF5 file via `model.save()`. This file format is considered legacy. We recommend using instead the native Keras format, e.g. `model.save('my_model.keras')`.\n",
      "  saving_api.save_model(\n"
     ]
    },
    {
     "name": "stdout",
     "output_type": "stream",
     "text": [
      "8/8 [==============================] - 0s 35ms/step\n",
      "Fold 5 - Validation Accuracy: 74.37%\n",
      "\n",
      "Final trained model saved as final_model/final_model_20240117_094006.h5\n",
      "\n",
      "Overall Cross-Validation Accuracy: 73.13%\n",
      "\n",
      "Confusion Matrix:\n",
      "[[462 173]\n",
      " [147 409]]\n",
      "Cross-validation completed.\n"
     ]
    },
    {
     "name": "stderr",
     "output_type": "stream",
     "text": [
      "/home/user/.local/lib/python3.10/site-packages/keras/src/engine/training.py:3103: UserWarning: You are saving your model as an HDF5 file via `model.save()`. This file format is considered legacy. We recommend using instead the native Keras format, e.g. `model.save('my_model.keras')`.\n",
      "  saving_api.save_model(\n"
     ]
    }
   ],
   "source": [
    "if __name__ == \"__main__\":\n",
    "    main()"
   ]
  },
  {
   "cell_type": "code",
   "execution_count": null,
   "metadata": {},
   "outputs": [],
   "source": []
  }
 ],
 "metadata": {
  "kernelspec": {
   "display_name": "Python 3",
   "language": "python",
   "name": "python3"
  },
  "language_info": {
   "codemirror_mode": {
    "name": "ipython",
    "version": 3
   },
   "file_extension": ".py",
   "mimetype": "text/x-python",
   "name": "python",
   "nbconvert_exporter": "python",
   "pygments_lexer": "ipython3",
   "version": "3.10.12"
  }
 },
 "nbformat": 4,
 "nbformat_minor": 2
}
