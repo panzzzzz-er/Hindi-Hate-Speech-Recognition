{
 "cells": [
  {
   "cell_type": "code",
   "execution_count": 1,
   "metadata": {},
   "outputs": [
    {
     "name": "stderr",
     "output_type": "stream",
     "text": [
      "2024-01-16 20:37:59.297958: I external/local_tsl/tsl/cuda/cudart_stub.cc:31] Could not find cuda drivers on your machine, GPU will not be used.\n",
      "2024-01-16 20:38:00.060495: E external/local_xla/xla/stream_executor/cuda/cuda_dnn.cc:9261] Unable to register cuDNN factory: Attempting to register factory for plugin cuDNN when one has already been registered\n",
      "2024-01-16 20:38:00.060732: E external/local_xla/xla/stream_executor/cuda/cuda_fft.cc:607] Unable to register cuFFT factory: Attempting to register factory for plugin cuFFT when one has already been registered\n",
      "2024-01-16 20:38:00.199195: E external/local_xla/xla/stream_executor/cuda/cuda_blas.cc:1515] Unable to register cuBLAS factory: Attempting to register factory for plugin cuBLAS when one has already been registered\n",
      "2024-01-16 20:38:00.503308: I external/local_tsl/tsl/cuda/cudart_stub.cc:31] Could not find cuda drivers on your machine, GPU will not be used.\n",
      "2024-01-16 20:38:00.508426: I tensorflow/core/platform/cpu_feature_guard.cc:182] This TensorFlow binary is optimized to use available CPU instructions in performance-critical operations.\n",
      "To enable the following instructions: AVX2, in other operations, rebuild TensorFlow with the appropriate compiler flags.\n",
      "2024-01-16 20:38:03.118214: W tensorflow/compiler/tf2tensorrt/utils/py_utils.cc:38] TF-TRT Warning: Could not find TensorRT\n",
      "/usr/lib/python3/dist-packages/scipy/__init__.py:146: UserWarning: A NumPy version >=1.17.3 and <1.25.0 is required for this version of SciPy (detected version 1.26.3\n",
      "  warnings.warn(f\"A NumPy version >={np_minversion} and <{np_maxversion}\"\n"
     ]
    }
   ],
   "source": [
    "from tensorflow.keras.models import load_model\n",
    "import numpy as np\n",
    "import librosa\n",
    "import pandas as pd"
   ]
  },
  {
   "cell_type": "code",
   "execution_count": 2,
   "metadata": {},
   "outputs": [],
   "source": [
    "# Preprocess audio data\n",
    "def preprocess_audio(file_path, target_duration=10):\n",
    "    audio, _ = librosa.load(file_path, sr=None)\n",
    "\n",
    "    target_length = int(target_duration * _)\n",
    "    if len(audio) < target_length:\n",
    "        audio = np.pad(audio, (0, target_length - len(audio)))\n",
    "    else:\n",
    "        audio = audio[:target_length]\n",
    "\n",
    "    mfccs = librosa.feature.mfcc(y=audio, sr=_, n_mfcc=13)\n",
    "    return mfccs"
   ]
  },
  {
   "cell_type": "code",
   "execution_count": 4,
   "metadata": {},
   "outputs": [
    {
     "name": "stdout",
     "output_type": "stream",
     "text": [
      "1/1 [==============================] - 1s 511ms/step\n",
      "Predictions: [0]\n"
     ]
    }
   ],
   "source": [
    "# Load the trained model\n",
    "model = load_model('new_model.h5')\n",
    "\n",
    "# Example: Make predictions on unseen data\n",
    "unseen_data_path = 'unseen_sample.wav'\n",
    "# unseen_data_path = 'hindi_hate_speech_model.h5'\n",
    "unseen_audio = preprocess_audio(unseen_data_path)\n",
    "\n",
    "# Ensure that the input shape matches the model's expected input shape\n",
    "unseen_audio = unseen_audio[np.newaxis, ..., np.newaxis]\n",
    "\n",
    "# Make predictions\n",
    "predictions = model.predict(unseen_audio)\n",
    "\n",
    "# Threshold the predictions for binary classification\n",
    "binary_predictions = (predictions > 0.5).astype(int)\n",
    "\n",
    "# Print the predictions\n",
    "# If binary_predictions is [1], it means the model predicts the input audio contains hate speech. \n",
    "# If it is [0], it means the model predicts the input audio does not contain hate speech.\n",
    "\n",
    "print(\"Predictions:\", binary_predictions.flatten())"
   ]
  },
  {
   "cell_type": "code",
   "execution_count": 5,
   "metadata": {},
   "outputs": [
    {
     "name": "stdout",
     "output_type": "stream",
     "text": [
      "Raw Probabilities: [0.42996034]\n"
     ]
    }
   ],
   "source": [
    "# Print the raw probability scores\n",
    "print(\"Raw Probabilities:\", predictions.flatten())"
   ]
  },
  {
   "cell_type": "code",
   "execution_count": null,
   "metadata": {},
   "outputs": [],
   "source": []
  }
 ],
 "metadata": {
  "kernelspec": {
   "display_name": "Python 3",
   "language": "python",
   "name": "python3"
  },
  "language_info": {
   "codemirror_mode": {
    "name": "ipython",
    "version": 3
   },
   "file_extension": ".py",
   "mimetype": "text/x-python",
   "name": "python",
   "nbconvert_exporter": "python",
   "pygments_lexer": "ipython3",
   "version": "3.10.12"
  }
 },
 "nbformat": 4,
 "nbformat_minor": 2
}
