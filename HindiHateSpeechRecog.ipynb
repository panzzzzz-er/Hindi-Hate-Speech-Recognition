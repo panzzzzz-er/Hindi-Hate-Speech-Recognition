{
 "cells": [
  {
   "cell_type": "code",
   "execution_count": 1,
   "metadata": {},
   "outputs": [
    {
     "name": "stderr",
     "output_type": "stream",
     "text": [
      "2024-01-16 20:03:55.728862: I external/local_tsl/tsl/cuda/cudart_stub.cc:31] Could not find cuda drivers on your machine, GPU will not be used.\n",
      "2024-01-16 20:03:55.774626: E external/local_xla/xla/stream_executor/cuda/cuda_dnn.cc:9261] Unable to register cuDNN factory: Attempting to register factory for plugin cuDNN when one has already been registered\n",
      "2024-01-16 20:03:55.774670: E external/local_xla/xla/stream_executor/cuda/cuda_fft.cc:607] Unable to register cuFFT factory: Attempting to register factory for plugin cuFFT when one has already been registered\n",
      "2024-01-16 20:03:55.776006: E external/local_xla/xla/stream_executor/cuda/cuda_blas.cc:1515] Unable to register cuBLAS factory: Attempting to register factory for plugin cuBLAS when one has already been registered\n",
      "2024-01-16 20:03:55.782244: I external/local_tsl/tsl/cuda/cudart_stub.cc:31] Could not find cuda drivers on your machine, GPU will not be used.\n",
      "2024-01-16 20:03:55.784267: I tensorflow/core/platform/cpu_feature_guard.cc:182] This TensorFlow binary is optimized to use available CPU instructions in performance-critical operations.\n",
      "To enable the following instructions: AVX2, in other operations, rebuild TensorFlow with the appropriate compiler flags.\n",
      "2024-01-16 20:03:57.344002: W tensorflow/compiler/tf2tensorrt/utils/py_utils.cc:38] TF-TRT Warning: Could not find TensorRT\n",
      "/usr/lib/python3/dist-packages/scipy/__init__.py:146: UserWarning: A NumPy version >=1.17.3 and <1.25.0 is required for this version of SciPy (detected version 1.26.3\n",
      "  warnings.warn(f\"A NumPy version >={np_minversion} and <{np_maxversion}\"\n"
     ]
    }
   ],
   "source": [
    "import os\n",
    "import numpy as np\n",
    "import tensorflow as tf\n",
    "from tensorflow.keras.models import Sequential\n",
    "from tensorflow.keras.layers import Conv2D, MaxPooling2D, Flatten, Dense, BatchNormalization, Dropout\n",
    "from sklearn.model_selection import train_test_split\n",
    "import librosa\n",
    "from tqdm import tqdm"
   ]
  },
  {
   "cell_type": "code",
   "execution_count": 2,
   "metadata": {},
   "outputs": [],
   "source": [
    "# Load data\n",
    "def load_data(data_path):\n",
    "    data = []\n",
    "    labels = []\n",
    "    with open(data_path, 'r') as file:\n",
    "        next(file)  # Skip header\n",
    "        for line in file:\n",
    "            values = line.strip().split(',')\n",
    "            if len(values) == 2:\n",
    "                filename, label = values\n",
    "                data.append(filename)\n",
    "                labels.append(1 if label.lower() == 'yes' else 0)  # Convert labels to binary (0 or 1)\n",
    "            else:\n",
    "                print(f\"Issue with line: {line}\")\n",
    "\n",
    "    return data, labels"
   ]
  },
  {
   "cell_type": "code",
   "execution_count": 3,
   "metadata": {},
   "outputs": [],
   "source": [
    "# Preprocess audio data\n",
    "def preprocess_audio(file_path, target_duration=10):\n",
    "    # Load audio file\n",
    "    audio, _ = librosa.load(file_path, sr=None)\n",
    "\n",
    "    # Pad or truncate audio to the target duration\n",
    "    target_length = int(target_duration * _)\n",
    "    if len(audio) < target_length:\n",
    "        audio = np.pad(audio, (0, target_length - len(audio)))\n",
    "    else:\n",
    "        audio = audio[:target_length]\n",
    "\n",
    "    # Extract Mel-frequency cepstral coefficients (MFCCs)\n",
    "    mfccs = librosa.feature.mfcc(y=audio, sr=_, n_mfcc=13)\n",
    "\n",
    "    return mfccs\n"
   ]
  },
  {
   "cell_type": "code",
   "execution_count": 4,
   "metadata": {},
   "outputs": [],
   "source": [
    "def build_model(input_shape):\n",
    "    model = Sequential()\n",
    "\n",
    "    model.add(Conv2D(32, kernel_size=(3, 3), activation='relu', input_shape=input_shape))\n",
    "    model.add(MaxPooling2D(pool_size=(2, 2)))\n",
    "    model.add(BatchNormalization())\n",
    "    model.add(Flatten())\n",
    "    model.add(Dense(128, activation='relu'))\n",
    "    model.add(Dropout(0.5))\n",
    "    model.add(Dense(1, activation='sigmoid'))\n",
    "\n",
    "    return model"
   ]
  },
  {
   "cell_type": "code",
   "execution_count": 5,
   "metadata": {},
   "outputs": [],
   "source": [
    "# Train the model\n",
    "def train_model(X_train, y_train, X_val, y_val):\n",
    "    model = build_model(input_shape=X_train.shape[1:])\n",
    "    \n",
    "    model.compile(optimizer='adam', loss='binary_crossentropy', metrics=['accuracy'])\n",
    "\n",
    "    model.fit(X_train, y_train, validation_data=(X_val, y_val), epochs=10, batch_size=32)\n",
    "\n",
    "    return model\n"
   ]
  },
  {
   "cell_type": "code",
   "execution_count": 6,
   "metadata": {},
   "outputs": [],
   "source": [
    "# Main function\n",
    "def main():\n",
    "    train_data_path = 'Hindi_train.csv'  # Replace with your actual training dataset file\n",
    "    test_data_path = 'Hindi_test.csv'    # Replace with your actual testing dataset file\n",
    "\n",
    "    # Load training data\n",
    "    train_data, train_labels = load_data(train_data_path)\n",
    "    \n",
    "    # Load and preprocess training audio\n",
    "    X_train = []\n",
    "    for filename in tqdm(train_data, desc=\"Processing Training Audio\"):\n",
    "        file_path = os.path.join(os.path.dirname(train_data_path), 'audios', filename)\n",
    "        features = preprocess_audio(file_path)\n",
    "        X_train.append(features)\n",
    "\n",
    "    X_train = np.array(X_train)\n",
    "    y_train = np.array(train_labels)\n",
    "\n",
    "    # Reshape the input data to add a channel dimension\n",
    "    X_train = X_train[..., np.newaxis]\n",
    "\n",
    "    # Split the training dataset into training and validation sets\n",
    "    X_train, X_val, y_train, y_val = train_test_split(X_train, y_train, test_size=0.2, random_state=42)\n",
    "\n",
    "    # Reshape the validation data\n",
    "    X_val = X_val[..., np.newaxis]\n",
    "\n",
    "    # Train the model\n",
    "    model = train_model(X_train, y_train, X_val, y_val)\n",
    "\n",
    "    # Save the model\n",
    "    model.save('hindi_hate_speech_model.h5')\n",
    "\n",
    "    # Load test data\n",
    "    test_data, test_labels = load_data(test_data_path)\n",
    "\n",
    "    # Load and preprocess test audio\n",
    "    X_test = []\n",
    "    for filename in tqdm(test_data, desc=\"Processing Test Audio\"):\n",
    "        file_path = os.path.join(os.path.dirname(test_data_path), 'audios', filename)\n",
    "        features = preprocess_audio(file_path)\n",
    "        X_test.append(features)\n",
    "\n",
    "    X_test = np.array(X_test)\n",
    "    y_test = np.array(test_labels)\n",
    "\n",
    "    # Reshape the test data\n",
    "    X_test = X_test[..., np.newaxis]\n",
    "\n",
    "    # Evaluate the model on the test set\n",
    "    test_loss, test_accuracy = model.evaluate(X_test, y_test)\n",
    "    print(f\"Test Accuracy: {test_accuracy * 100:.2f}%\")\n"
   ]
  },
  {
   "cell_type": "code",
   "execution_count": 7,
   "metadata": {},
   "outputs": [
    {
     "name": "stderr",
     "output_type": "stream",
     "text": [
      "Processing Training Audio:   0%|          | 0/822 [00:00<?, ?it/s]"
     ]
    },
    {
     "name": "stderr",
     "output_type": "stream",
     "text": [
      "Processing Training Audio: 100%|██████████| 822/822 [01:02<00:00, 13.05it/s]\n"
     ]
    },
    {
     "name": "stdout",
     "output_type": "stream",
     "text": [
      "Epoch 1/10\n",
      "21/21 [==============================] - 7s 188ms/step - loss: 2.3732 - accuracy: 0.6423 - val_loss: 13.1099 - val_accuracy: 0.6545\n",
      "Epoch 2/10\n",
      "21/21 [==============================] - 2s 106ms/step - loss: 0.6648 - accuracy: 0.6971 - val_loss: 3.4790 - val_accuracy: 0.6727\n",
      "Epoch 3/10\n",
      "21/21 [==============================] - 3s 125ms/step - loss: 0.5422 - accuracy: 0.7489 - val_loss: 1.0372 - val_accuracy: 0.7394\n",
      "Epoch 4/10\n",
      "21/21 [==============================] - 3s 141ms/step - loss: 0.4765 - accuracy: 0.7976 - val_loss: 0.8954 - val_accuracy: 0.7455\n",
      "Epoch 5/10\n",
      "21/21 [==============================] - 3s 158ms/step - loss: 0.4747 - accuracy: 0.7778 - val_loss: 0.7776 - val_accuracy: 0.7515\n",
      "Epoch 6/10\n",
      "21/21 [==============================] - 3s 157ms/step - loss: 0.4320 - accuracy: 0.8158 - val_loss: 0.5992 - val_accuracy: 0.7030\n",
      "Epoch 7/10\n",
      "21/21 [==============================] - 3s 152ms/step - loss: 0.4061 - accuracy: 0.8082 - val_loss: 0.6363 - val_accuracy: 0.6970\n",
      "Epoch 8/10\n",
      "21/21 [==============================] - 3s 159ms/step - loss: 0.3924 - accuracy: 0.8189 - val_loss: 0.6505 - val_accuracy: 0.6970\n",
      "Epoch 9/10\n",
      "21/21 [==============================] - 3s 167ms/step - loss: 0.3722 - accuracy: 0.8493 - val_loss: 0.5692 - val_accuracy: 0.6970\n",
      "Epoch 10/10\n",
      "21/21 [==============================] - 3s 165ms/step - loss: 0.3399 - accuracy: 0.8661 - val_loss: 0.8042 - val_accuracy: 0.6424\n"
     ]
    },
    {
     "name": "stderr",
     "output_type": "stream",
     "text": [
      "/home/user/.local/lib/python3.10/site-packages/keras/src/engine/training.py:3103: UserWarning: You are saving your model as an HDF5 file via `model.save()`. This file format is considered legacy. We recommend using instead the native Keras format, e.g. `model.save('my_model.keras')`.\n",
      "  saving_api.save_model(\n",
      "Processing Test Audio: 100%|██████████| 369/369 [00:39<00:00,  9.46it/s]\n"
     ]
    },
    {
     "name": "stdout",
     "output_type": "stream",
     "text": [
      "12/12 [==============================] - 1s 27ms/step - loss: 0.7346 - accuracy: 0.7127\n",
      "Test Accuracy: 71.27%\n"
     ]
    }
   ],
   "source": [
    "if __name__ == \"__main__\":\n",
    "    main()"
   ]
  },
  {
   "cell_type": "code",
   "execution_count": null,
   "metadata": {},
   "outputs": [],
   "source": []
  }
 ],
 "metadata": {
  "kernelspec": {
   "display_name": "Python 3",
   "language": "python",
   "name": "python3"
  },
  "language_info": {
   "codemirror_mode": {
    "name": "ipython",
    "version": 3
   },
   "file_extension": ".py",
   "mimetype": "text/x-python",
   "name": "python",
   "nbconvert_exporter": "python",
   "pygments_lexer": "ipython3",
   "version": "3.10.12"
  }
 },
 "nbformat": 4,
 "nbformat_minor": 2
}
